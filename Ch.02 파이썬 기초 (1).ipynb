{
 "cells": [
  {
   "cell_type": "markdown",
   "id": "4ac21fa3",
   "metadata": {},
   "source": [
    "# 1. 파이썬의 특징"
   ]
  },
  {
   "cell_type": "markdown",
   "id": "c6e1b5c8",
   "metadata": {},
   "source": [
    "#### 세미콜론(;)으로 끝을 맺지 않아도 됨"
   ]
  },
  {
   "cell_type": "code",
   "execution_count": 1,
   "id": "8bea77dc",
   "metadata": {},
   "outputs": [
    {
     "name": "stdout",
     "output_type": "stream",
     "text": [
      "Hello World!\n"
     ]
    }
   ],
   "source": [
    "print('Hello World!')"
   ]
  },
  {
   "cell_type": "code",
   "execution_count": 3,
   "id": "86adf2e7",
   "metadata": {},
   "outputs": [
    {
     "name": "stdout",
     "output_type": "stream",
     "text": [
      "Hello World!\n"
     ]
    }
   ],
   "source": [
    "print('Hello World!');"
   ]
  },
  {
   "cell_type": "markdown",
   "id": "6ff8a1c6",
   "metadata": {},
   "source": [
    "#### 들여쓰기에 주의가 필요함"
   ]
  },
  {
   "cell_type": "code",
   "execution_count": 4,
   "id": "9691fdf7",
   "metadata": {},
   "outputs": [
    {
     "data": {
      "text/plain": [
       "2"
      ]
     },
     "execution_count": 4,
     "metadata": {},
     "output_type": "execute_result"
    }
   ],
   "source": [
    "1 + 1"
   ]
  },
  {
   "cell_type": "code",
   "execution_count": 6,
   "id": "05f459dd",
   "metadata": {},
   "outputs": [
    {
     "data": {
      "text/plain": [
       "2"
      ]
     },
     "execution_count": 6,
     "metadata": {},
     "output_type": "execute_result"
    }
   ],
   "source": [
    "            1 + 1"
   ]
  },
  {
   "cell_type": "code",
   "execution_count": 7,
   "id": "0ccc1ee2",
   "metadata": {},
   "outputs": [
    {
     "data": {
      "text/plain": [
       "2"
      ]
     },
     "execution_count": 7,
     "metadata": {},
     "output_type": "execute_result"
    }
   ],
   "source": [
    "1 + 1\n",
    "1 + 1"
   ]
  },
  {
   "cell_type": "code",
   "execution_count": 8,
   "id": "49765c5f",
   "metadata": {},
   "outputs": [
    {
     "ename": "IndentationError",
     "evalue": "unexpected indent (Temp/ipykernel_18708/4011139052.py, line 2)",
     "output_type": "error",
     "traceback": [
      "\u001b[1;36m  File \u001b[1;32m\"C:\\Users\\82107\\AppData\\Local\\Temp/ipykernel_18708/4011139052.py\"\u001b[1;36m, line \u001b[1;32m2\u001b[0m\n\u001b[1;33m    1 + 1\u001b[0m\n\u001b[1;37m    ^\u001b[0m\n\u001b[1;31mIndentationError\u001b[0m\u001b[1;31m:\u001b[0m unexpected indent\n"
     ]
    }
   ],
   "source": [
    "1 + 1\n",
    " 1 + 1"
   ]
  },
  {
   "cell_type": "markdown",
   "id": "906a5f71",
   "metadata": {},
   "source": [
    "#### 주석은 #(한줄), 또는 ', '''로 만들 수 있음"
   ]
  },
  {
   "cell_type": "code",
   "execution_count": 11,
   "id": "89d1282e",
   "metadata": {},
   "outputs": [
    {
     "data": {
      "text/plain": [
       "'\\n쌍 따옴표로도\\n할 수 있음\\n'"
      ]
     },
     "execution_count": 11,
     "metadata": {},
     "output_type": "execute_result"
    }
   ],
   "source": [
    "# 한줄짜리 주석\n",
    "\n",
    "'''\n",
    "여러줄\n",
    "주석처리\n",
    "'''\n",
    "\n",
    "\"\"\"\n",
    "쌍 따옴표로도\n",
    "할 수 있음\n",
    "\"\"\""
   ]
  },
  {
   "cell_type": "markdown",
   "id": "41839a5b",
   "metadata": {},
   "source": [
    "# 2. 변수"
   ]
  },
  {
   "cell_type": "markdown",
   "id": "a9b6e090",
   "metadata": {},
   "source": [
    "#### 문제 1"
   ]
  },
  {
   "cell_type": "markdown",
   "id": "9f564ecf",
   "metadata": {},
   "source": [
    "a는 100, b는 10000 이다."
   ]
  },
  {
   "cell_type": "markdown",
   "id": "2691c61a",
   "metadata": {},
   "source": [
    "a+b를 구하시오"
   ]
  },
  {
   "cell_type": "code",
   "execution_count": 12,
   "id": "7cdbaa44",
   "metadata": {},
   "outputs": [
    {
     "data": {
      "text/plain": [
       "10100"
      ]
     },
     "execution_count": 12,
     "metadata": {},
     "output_type": "execute_result"
    }
   ],
   "source": [
    "100+10000"
   ]
  },
  {
   "cell_type": "markdown",
   "id": "0a976867",
   "metadata": {},
   "source": [
    "#### 문제 2"
   ]
  },
  {
   "cell_type": "markdown",
   "id": "e1c46ba9",
   "metadata": {},
   "source": [
    "a는 100, b는 10000이다."
   ]
  },
  {
   "cell_type": "markdown",
   "id": "0a300057",
   "metadata": {},
   "source": [
    "a* b를 구하시오"
   ]
  },
  {
   "cell_type": "code",
   "execution_count": 13,
   "id": "e6ee8f2a",
   "metadata": {},
   "outputs": [
    {
     "data": {
      "text/plain": [
       "1000000"
      ]
     },
     "execution_count": 13,
     "metadata": {},
     "output_type": "execute_result"
    }
   ],
   "source": [
    "100*10000"
   ]
  },
  {
   "cell_type": "markdown",
   "id": "48bd540d",
   "metadata": {},
   "source": [
    "#### 문제 3"
   ]
  },
  {
   "cell_type": "markdown",
   "id": "289ead79",
   "metadata": {},
   "source": [
    "a는 100, b는 10000이다."
   ]
  },
  {
   "cell_type": "markdown",
   "id": "b4e12e51",
   "metadata": {},
   "source": [
    "a/b는?"
   ]
  },
  {
   "cell_type": "code",
   "execution_count": 14,
   "id": "cdfd9ae4",
   "metadata": {},
   "outputs": [
    {
     "data": {
      "text/plain": [
       "0.01"
      ]
     },
     "execution_count": 14,
     "metadata": {},
     "output_type": "execute_result"
    }
   ],
   "source": [
    "100/10000"
   ]
  },
  {
   "cell_type": "markdown",
   "id": "b5a40417",
   "metadata": {},
   "source": [
    "#### 자주 사용하는 숫자들을 변수에 저장하여 재사용한다면??"
   ]
  },
  {
   "cell_type": "markdown",
   "id": "aa792475",
   "metadata": {},
   "source": [
    "- 변수 생성하는 방법1"
   ]
  },
  {
   "cell_type": "code",
   "execution_count": 15,
   "id": "72bcc1ae",
   "metadata": {},
   "outputs": [],
   "source": [
    "a=100\n",
    "b=10000"
   ]
  },
  {
   "cell_type": "markdown",
   "id": "38887b11",
   "metadata": {},
   "source": [
    "print 함수를 사용하여 a, b의 값 확인"
   ]
  },
  {
   "cell_type": "code",
   "execution_count": 16,
   "id": "d0132003",
   "metadata": {},
   "outputs": [
    {
     "name": "stdout",
     "output_type": "stream",
     "text": [
      "100\n",
      "10000\n"
     ]
    }
   ],
   "source": [
    "print(a)\n",
    "print(b)"
   ]
  },
  {
   "cell_type": "markdown",
   "id": "347dee9c",
   "metadata": {},
   "source": [
    "- 변수 생성하는 방법2"
   ]
  },
  {
   "cell_type": "code",
   "execution_count": 17,
   "id": "715d7154",
   "metadata": {},
   "outputs": [],
   "source": [
    "a, b = 100, 10000"
   ]
  },
  {
   "cell_type": "markdown",
   "id": "ff5c14bf",
   "metadata": {},
   "source": [
    "더블클릭 또는 Enter 키를 눌러 수정"
   ]
  },
  {
   "cell_type": "markdown",
   "id": "bdde4a18",
   "metadata": {},
   "source": [
    "print 함수를 사용하여 a, b의 값 확인"
   ]
  },
  {
   "cell_type": "code",
   "execution_count": 18,
   "id": "38b158b4",
   "metadata": {},
   "outputs": [
    {
     "name": "stdout",
     "output_type": "stream",
     "text": [
      "100\n",
      "10000\n"
     ]
    }
   ],
   "source": [
    "print(a)\n",
    "print(b)"
   ]
  },
  {
   "cell_type": "markdown",
   "id": "efddecb1",
   "metadata": {},
   "source": [
    "#### 문제 4"
   ]
  },
  {
   "cell_type": "markdown",
   "id": "72592b53",
   "metadata": {},
   "source": [
    "a는 300, b는 400이다."
   ]
  },
  {
   "cell_type": "markdown",
   "id": "cf34ebb7",
   "metadata": {},
   "source": [
    "a+b, a-b, a* b, a/b를 출력하시오"
   ]
  },
  {
   "cell_type": "code",
   "execution_count": 19,
   "id": "c6dc9687",
   "metadata": {},
   "outputs": [
    {
     "name": "stdout",
     "output_type": "stream",
     "text": [
      "300\n",
      "400\n"
     ]
    }
   ],
   "source": [
    "a=300\n",
    "b=400\n",
    "print(a)\n",
    "print(b)"
   ]
  },
  {
   "cell_type": "code",
   "execution_count": 21,
   "id": "88ebee94",
   "metadata": {},
   "outputs": [
    {
     "data": {
      "text/plain": [
       "700"
      ]
     },
     "execution_count": 21,
     "metadata": {},
     "output_type": "execute_result"
    }
   ],
   "source": [
    "a+b"
   ]
  },
  {
   "cell_type": "code",
   "execution_count": 22,
   "id": "d1e116c6",
   "metadata": {},
   "outputs": [
    {
     "data": {
      "text/plain": [
       "-100"
      ]
     },
     "execution_count": 22,
     "metadata": {},
     "output_type": "execute_result"
    }
   ],
   "source": [
    "a-b"
   ]
  },
  {
   "cell_type": "code",
   "execution_count": 23,
   "id": "0a6171a3",
   "metadata": {},
   "outputs": [
    {
     "data": {
      "text/plain": [
       "120000"
      ]
     },
     "execution_count": 23,
     "metadata": {},
     "output_type": "execute_result"
    }
   ],
   "source": [
    "a*b"
   ]
  },
  {
   "cell_type": "code",
   "execution_count": 24,
   "id": "41df111c",
   "metadata": {},
   "outputs": [
    {
     "data": {
      "text/plain": [
       "0.75"
      ]
     },
     "execution_count": 24,
     "metadata": {},
     "output_type": "execute_result"
    }
   ],
   "source": [
    "a/b"
   ]
  },
  {
   "cell_type": "code",
   "execution_count": 26,
   "id": "e9b802df",
   "metadata": {},
   "outputs": [
    {
     "name": "stdout",
     "output_type": "stream",
     "text": [
      "700\n",
      "-100\n",
      "700\n",
      "0.75\n"
     ]
    }
   ],
   "source": [
    "## 정답\n",
    "print(a+b)\n",
    "print(a-b)\n",
    "print(a+b)\n",
    "print(a/b)\n",
    "## print해서 값을 출력할 수 있다는 것을 까먹었음\n",
    "## print 없이 입력하면 맨 마지막 값만 출력됨"
   ]
  },
  {
   "cell_type": "markdown",
   "id": "322b329b",
   "metadata": {},
   "source": [
    "- 변수명 작성시 주의사항"
   ]
  },
  {
   "cell_type": "markdown",
   "id": "03e586be",
   "metadata": {},
   "source": [
    "   -영문자, 숫자, _의 조합으로 구성되어야함"
   ]
  },
  {
   "cell_type": "code",
   "execution_count": 27,
   "id": "d66e3649",
   "metadata": {},
   "outputs": [],
   "source": [
    "a=1\n",
    "a1=1\n",
    "_=1"
   ]
  },
  {
   "cell_type": "markdown",
   "id": "26713b8c",
   "metadata": {},
   "source": [
    "- 변수명의 첫 글자는 숫자로 사용할 수 없음"
   ]
  },
  {
   "cell_type": "code",
   "execution_count": 29,
   "id": "253d8c7a",
   "metadata": {},
   "outputs": [
    {
     "ename": "SyntaxError",
     "evalue": "invalid syntax (Temp/ipykernel_18708/867483817.py, line 1)",
     "output_type": "error",
     "traceback": [
      "\u001b[1;36m  File \u001b[1;32m\"C:\\Users\\82107\\AppData\\Local\\Temp/ipykernel_18708/867483817.py\"\u001b[1;36m, line \u001b[1;32m1\u001b[0m\n\u001b[1;33m    1a=1\u001b[0m\n\u001b[1;37m     ^\u001b[0m\n\u001b[1;31mSyntaxError\u001b[0m\u001b[1;31m:\u001b[0m invalid syntax\n"
     ]
    }
   ],
   "source": [
    "1a=1"
   ]
  },
  {
   "cell_type": "markdown",
   "id": "16a57aaf",
   "metadata": {},
   "source": [
    "- 대문자와 소문자는 구분되어 사용됨"
   ]
  },
  {
   "cell_type": "code",
   "execution_count": 30,
   "id": "b9ef233f",
   "metadata": {},
   "outputs": [
    {
     "name": "stdout",
     "output_type": "stream",
     "text": [
      "1\n",
      "10\n"
     ]
    }
   ],
   "source": [
    "a = 1\n",
    "A = 10\n",
    "print(a)\n",
    "print(A)"
   ]
  },
  {
   "cell_type": "markdown",
   "id": "d28322d7",
   "metadata": {},
   "source": [
    "- 변수 명 사이에 띄어쓰기는 불가"
   ]
  },
  {
   "cell_type": "code",
   "execution_count": 31,
   "id": "466f13b3",
   "metadata": {},
   "outputs": [
    {
     "ename": "SyntaxError",
     "evalue": "invalid syntax (Temp/ipykernel_18708/2376195748.py, line 1)",
     "output_type": "error",
     "traceback": [
      "\u001b[1;36m  File \u001b[1;32m\"C:\\Users\\82107\\AppData\\Local\\Temp/ipykernel_18708/2376195748.py\"\u001b[1;36m, line \u001b[1;32m1\u001b[0m\n\u001b[1;33m    a b=1\u001b[0m\n\u001b[1;37m      ^\u001b[0m\n\u001b[1;31mSyntaxError\u001b[0m\u001b[1;31m:\u001b[0m invalid syntax\n"
     ]
    }
   ],
   "source": [
    "a b=1"
   ]
  },
  {
   "cell_type": "markdown",
   "id": "02ac3453",
   "metadata": {},
   "source": [
    "# 3. 자료형"
   ]
  },
  {
   "cell_type": "markdown",
   "id": "0666da51",
   "metadata": {},
   "source": [
    "- 자료형: 저장되는 데이터의 형태"
   ]
  },
  {
   "cell_type": "code",
   "execution_count": 32,
   "id": "9cb14bee",
   "metadata": {},
   "outputs": [],
   "source": [
    "a = 1\n",
    "b = 0.1\n",
    "c = 'hello'"
   ]
  },
  {
   "cell_type": "code",
   "execution_count": 33,
   "id": "98f25e0e",
   "metadata": {},
   "outputs": [
    {
     "name": "stdout",
     "output_type": "stream",
     "text": [
      "<class 'int'>\n",
      "<class 'float'>\n",
      "<class 'str'>\n"
     ]
    }
   ],
   "source": [
    "print(type(a))\n",
    "print(type(b))\n",
    "print(type(c))"
   ]
  },
  {
   "cell_type": "markdown",
   "id": "7692d9dc",
   "metadata": {},
   "source": [
    "### 1) 숫자형"
   ]
  },
  {
   "cell_type": "markdown",
   "id": "7b117c40",
   "metadata": {},
   "source": [
    "- int: 정수의 형태"
   ]
  },
  {
   "cell_type": "code",
   "execution_count": 35,
   "id": "64b5dd7e",
   "metadata": {},
   "outputs": [
    {
     "name": "stdout",
     "output_type": "stream",
     "text": [
      "<class 'int'>\n"
     ]
    }
   ],
   "source": [
    "a = 1\n",
    "print(type(a))"
   ]
  },
  {
   "cell_type": "code",
   "execution_count": 36,
   "id": "7a68a8c0",
   "metadata": {},
   "outputs": [
    {
     "name": "stdout",
     "output_type": "stream",
     "text": [
      "<class 'int'>\n"
     ]
    }
   ],
   "source": [
    "b = 0\n",
    "print(type(b))"
   ]
  },
  {
   "cell_type": "code",
   "execution_count": 37,
   "id": "a0a6c31a",
   "metadata": {},
   "outputs": [
    {
     "name": "stdout",
     "output_type": "stream",
     "text": [
      "<class 'int'>\n"
     ]
    }
   ],
   "source": [
    "c = -1\n",
    "print(type(c))"
   ]
  },
  {
   "cell_type": "markdown",
   "id": "2dedc988",
   "metadata": {},
   "source": [
    "- flot: 실수의 형태"
   ]
  },
  {
   "cell_type": "code",
   "execution_count": 38,
   "id": "59645479",
   "metadata": {},
   "outputs": [
    {
     "name": "stdout",
     "output_type": "stream",
     "text": [
      "<class 'float'>\n"
     ]
    }
   ],
   "source": [
    "a = 1.1\n",
    "print(type(a))"
   ]
  },
  {
   "cell_type": "code",
   "execution_count": 39,
   "id": "90250f04",
   "metadata": {},
   "outputs": [
    {
     "name": "stdout",
     "output_type": "stream",
     "text": [
      "<class 'float'>\n"
     ]
    }
   ],
   "source": [
    "b = 0.0\n",
    "print(type(b))\n",
    "## 0과 0.0의 자료형은 다름"
   ]
  },
  {
   "cell_type": "code",
   "execution_count": 40,
   "id": "00c02451",
   "metadata": {},
   "outputs": [
    {
     "name": "stdout",
     "output_type": "stream",
     "text": [
      "<class 'float'>\n"
     ]
    }
   ],
   "source": [
    "c = -1.1\n",
    "print(type(c))"
   ]
  },
  {
   "cell_type": "code",
   "execution_count": 41,
   "id": "85bbfa44",
   "metadata": {},
   "outputs": [
    {
     "name": "stdout",
     "output_type": "stream",
     "text": [
      "<class 'float'>\n"
     ]
    }
   ],
   "source": [
    "d = 1.\n",
    "print(type(d))"
   ]
  },
  {
   "cell_type": "markdown",
   "id": "e4814bb7",
   "metadata": {},
   "source": [
    "- int와 float의 연산 결과는 int일까, float일까?"
   ]
  },
  {
   "cell_type": "code",
   "execution_count": 43,
   "id": "fc6e0ef2",
   "metadata": {},
   "outputs": [
    {
     "name": "stdout",
     "output_type": "stream",
     "text": [
      "<class 'int'>\n",
      "<class 'float'>\n"
     ]
    }
   ],
   "source": [
    "a = 1\n",
    "b = 1.0\n",
    "\n",
    "print(type(a))\n",
    "print(type(b))"
   ]
  },
  {
   "cell_type": "code",
   "execution_count": 44,
   "id": "92ecc672",
   "metadata": {},
   "outputs": [
    {
     "name": "stdout",
     "output_type": "stream",
     "text": [
      "<class 'float'>\n"
     ]
    }
   ],
   "source": [
    "print(type(a+b))"
   ]
  },
  {
   "cell_type": "markdown",
   "id": "ca9ac006",
   "metadata": {},
   "source": [
    "- 연산"
   ]
  },
  {
   "cell_type": "markdown",
   "id": "4f43fefb",
   "metadata": {},
   "source": [
    "-더하기"
   ]
  },
  {
   "cell_type": "code",
   "execution_count": 45,
   "id": "07996d60",
   "metadata": {},
   "outputs": [],
   "source": [
    "a = 10\n",
    "b = 2"
   ]
  },
  {
   "cell_type": "code",
   "execution_count": 46,
   "id": "f0128468",
   "metadata": {},
   "outputs": [
    {
     "data": {
      "text/plain": [
       "12"
      ]
     },
     "execution_count": 46,
     "metadata": {},
     "output_type": "execute_result"
    }
   ],
   "source": [
    "a+b"
   ]
  },
  {
   "cell_type": "markdown",
   "id": "8c4b0880",
   "metadata": {},
   "source": [
    "-빼기"
   ]
  },
  {
   "cell_type": "code",
   "execution_count": 47,
   "id": "c11ae06c",
   "metadata": {},
   "outputs": [
    {
     "data": {
      "text/plain": [
       "8"
      ]
     },
     "execution_count": 47,
     "metadata": {},
     "output_type": "execute_result"
    }
   ],
   "source": [
    "a-b"
   ]
  },
  {
   "cell_type": "markdown",
   "id": "83d29c2a",
   "metadata": {},
   "source": [
    "-곱하기"
   ]
  },
  {
   "cell_type": "code",
   "execution_count": 48,
   "id": "e9260621",
   "metadata": {},
   "outputs": [
    {
     "data": {
      "text/plain": [
       "20"
      ]
     },
     "execution_count": 48,
     "metadata": {},
     "output_type": "execute_result"
    }
   ],
   "source": [
    "a*b"
   ]
  },
  {
   "cell_type": "markdown",
   "id": "f5db49f7",
   "metadata": {},
   "source": [
    "-나누기"
   ]
  },
  {
   "cell_type": "code",
   "execution_count": 49,
   "id": "262f7e00",
   "metadata": {},
   "outputs": [
    {
     "data": {
      "text/plain": [
       "5.0"
      ]
     },
     "execution_count": 49,
     "metadata": {},
     "output_type": "execute_result"
    }
   ],
   "source": [
    "a/b"
   ]
  },
  {
   "cell_type": "markdown",
   "id": "c7e1a44b",
   "metadata": {},
   "source": [
    "-몫"
   ]
  },
  {
   "cell_type": "code",
   "execution_count": 51,
   "id": "1478c30e",
   "metadata": {},
   "outputs": [],
   "source": [
    "a = 10\n",
    "b = 3"
   ]
  },
  {
   "cell_type": "code",
   "execution_count": 52,
   "id": "4e354ef3",
   "metadata": {},
   "outputs": [
    {
     "data": {
      "text/plain": [
       "3"
      ]
     },
     "execution_count": 52,
     "metadata": {},
     "output_type": "execute_result"
    }
   ],
   "source": [
    "a//b"
   ]
  },
  {
   "cell_type": "markdown",
   "id": "ba11c179",
   "metadata": {},
   "source": [
    "-나머지"
   ]
  },
  {
   "cell_type": "code",
   "execution_count": 53,
   "id": "d2cf32d1",
   "metadata": {},
   "outputs": [
    {
     "data": {
      "text/plain": [
       "1"
      ]
     },
     "execution_count": 53,
     "metadata": {},
     "output_type": "execute_result"
    }
   ],
   "source": [
    "a%b"
   ]
  },
  {
   "cell_type": "markdown",
   "id": "915f00f2",
   "metadata": {},
   "source": [
    "-제곱"
   ]
  },
  {
   "cell_type": "code",
   "execution_count": 54,
   "id": "3ecefe49",
   "metadata": {},
   "outputs": [
    {
     "data": {
      "text/plain": [
       "1000"
      ]
     },
     "execution_count": 54,
     "metadata": {},
     "output_type": "execute_result"
    }
   ],
   "source": [
    "a**b"
   ]
  },
  {
   "cell_type": "markdown",
   "id": "b71b166c",
   "metadata": {},
   "source": [
    "- 할당연산"
   ]
  },
  {
   "cell_type": "markdown",
   "id": "b43feae0",
   "metadata": {},
   "source": [
    "-변수 a는 1이다. 해당 변수 a에 1을 더하여라"
   ]
  },
  {
   "cell_type": "code",
   "execution_count": 57,
   "id": "5314beaa",
   "metadata": {},
   "outputs": [
    {
     "name": "stdout",
     "output_type": "stream",
     "text": [
      "2\n"
     ]
    }
   ],
   "source": [
    "a = 1\n",
    "a = a + 1\n",
    "print(a)"
   ]
  },
  {
   "cell_type": "markdown",
   "id": "533c2e85",
   "metadata": {},
   "source": [
    "- 할당연산을 사용하는 방법"
   ]
  },
  {
   "cell_type": "code",
   "execution_count": 60,
   "id": "196d016b",
   "metadata": {},
   "outputs": [
    {
     "name": "stdout",
     "output_type": "stream",
     "text": [
      "2\n"
     ]
    }
   ],
   "source": [
    "# 더하기\n",
    "a = 1\n",
    "a += 1\n",
    "print(a)"
   ]
  },
  {
   "cell_type": "code",
   "execution_count": 62,
   "id": "a0b2f5bf",
   "metadata": {},
   "outputs": [
    {
     "name": "stdout",
     "output_type": "stream",
     "text": [
      "0\n"
     ]
    }
   ],
   "source": [
    "# 빼기\n",
    "a = 1\n",
    "a -= 1\n",
    "print(a)"
   ]
  },
  {
   "cell_type": "code",
   "execution_count": 63,
   "id": "14be649f",
   "metadata": {},
   "outputs": [
    {
     "name": "stdout",
     "output_type": "stream",
     "text": [
      "4\n"
     ]
    }
   ],
   "source": [
    "# 곱하기\n",
    "a = 2\n",
    "a *= 2\n",
    "print(a)"
   ]
  },
  {
   "cell_type": "code",
   "execution_count": 64,
   "id": "d3f82dca",
   "metadata": {},
   "outputs": [
    {
     "name": "stdout",
     "output_type": "stream",
     "text": [
      "0.5\n"
     ]
    }
   ],
   "source": [
    "# 나누기\n",
    "a = 1\n",
    "a /= 2\n",
    "print(a)"
   ]
  },
  {
   "cell_type": "markdown",
   "id": "be672ea7",
   "metadata": {},
   "source": [
    "### 2) 문자형"
   ]
  },
  {
   "cell_type": "markdown",
   "id": "1cbc06f9",
   "metadata": {},
   "source": [
    "- 문자형을 만들기 위해서는 문자를 따옴표('), 쌍 따옴표(\")로 감싸준다."
   ]
  },
  {
   "cell_type": "code",
   "execution_count": 65,
   "id": "18bb9eb6",
   "metadata": {},
   "outputs": [],
   "source": [
    "a = 'hello'"
   ]
  },
  {
   "cell_type": "code",
   "execution_count": 66,
   "id": "47da3303",
   "metadata": {},
   "outputs": [],
   "source": [
    "a = \"hello\""
   ]
  },
  {
   "cell_type": "markdown",
   "id": "72fca72d",
   "metadata": {},
   "source": [
    "- 인덱스"
   ]
  },
  {
   "cell_type": "markdown",
   "id": "381e4928",
   "metadata": {},
   "source": [
    "-인덱스는 []를 통해 지정해 줄 수 있으며, 0부터 시작함"
   ]
  },
  {
   "cell_type": "code",
   "execution_count": 67,
   "id": "959c565d",
   "metadata": {},
   "outputs": [],
   "source": [
    "a = 'hello world'"
   ]
  },
  {
   "cell_type": "markdown",
   "id": "61aaef81",
   "metadata": {},
   "source": [
    "-변수 a의 첫번째 문자를 출력하시오"
   ]
  },
  {
   "cell_type": "code",
   "execution_count": 68,
   "id": "56227343",
   "metadata": {},
   "outputs": [
    {
     "name": "stdout",
     "output_type": "stream",
     "text": [
      "h\n"
     ]
    }
   ],
   "source": [
    "print(a[0])"
   ]
  },
  {
   "cell_type": "markdown",
   "id": "3f67a722",
   "metadata": {},
   "source": [
    "-변수 a의 마지막 문자를 출력하시오"
   ]
  },
  {
   "cell_type": "code",
   "execution_count": 71,
   "id": "a90ac36e",
   "metadata": {},
   "outputs": [
    {
     "name": "stdout",
     "output_type": "stream",
     "text": [
      "d\n"
     ]
    }
   ],
   "source": [
    "print(a[10])\n",
    "## 띄어쓰기도 인덱스에 포함됨\n",
    "## print(a[-1])"
   ]
  },
  {
   "cell_type": "markdown",
   "id": "5ae1f605",
   "metadata": {},
   "source": [
    "- 슬라이스"
   ]
  },
  {
   "cell_type": "markdown",
   "id": "fdf607b2",
   "metadata": {},
   "source": [
    "-범위를 지정하여 원하는 부분만을 얻을 수 있음"
   ]
  },
  {
   "cell_type": "code",
   "execution_count": 76,
   "id": "fe20dbc5",
   "metadata": {},
   "outputs": [],
   "source": [
    "a = 'hellow world'"
   ]
  },
  {
   "cell_type": "markdown",
   "id": "35c6e25e",
   "metadata": {},
   "source": [
    "-변수 a 전체를 출력하시오"
   ]
  },
  {
   "cell_type": "code",
   "execution_count": 77,
   "id": "fe403f45",
   "metadata": {},
   "outputs": [
    {
     "name": "stdout",
     "output_type": "stream",
     "text": [
      "hellow world\n"
     ]
    }
   ],
   "source": [
    "print(a)"
   ]
  },
  {
   "cell_type": "code",
   "execution_count": 78,
   "id": "4c733b19",
   "metadata": {},
   "outputs": [
    {
     "name": "stdout",
     "output_type": "stream",
     "text": [
      "hellow world\n"
     ]
    }
   ],
   "source": [
    "print(a[:])"
   ]
  },
  {
   "cell_type": "markdown",
   "id": "1cc1c48e",
   "metadata": {},
   "source": [
    "-변수 a의 6~8번째 문자를 출력하시오"
   ]
  },
  {
   "cell_type": "code",
   "execution_count": 79,
   "id": "593fa6a1",
   "metadata": {},
   "outputs": [
    {
     "name": "stdout",
     "output_type": "stream",
     "text": [
      "w w\n"
     ]
    }
   ],
   "source": [
    "print(a[5:8])\n",
    "# 8은 인덱스 8미만\n",
    "# [이상:미만]"
   ]
  },
  {
   "cell_type": "markdown",
   "id": "40ed6f06",
   "metadata": {},
   "source": [
    "-변수 a의 처음~5번째 문자를 출력하시오"
   ]
  },
  {
   "cell_type": "code",
   "execution_count": 80,
   "id": "c486f40e",
   "metadata": {},
   "outputs": [
    {
     "name": "stdout",
     "output_type": "stream",
     "text": [
      "hello\n"
     ]
    }
   ],
   "source": [
    "print(a[:5])"
   ]
  },
  {
   "cell_type": "markdown",
   "id": "1f7475d0",
   "metadata": {},
   "source": [
    "-변수 a의 뒤에서부터 5번쩨~마지막 문자를 출력하시오"
   ]
  },
  {
   "cell_type": "code",
   "execution_count": 81,
   "id": "1364a132",
   "metadata": {},
   "outputs": [
    {
     "name": "stdout",
     "output_type": "stream",
     "text": [
      "world\n"
     ]
    }
   ],
   "source": [
    "print(a[-5:])"
   ]
  },
  {
   "cell_type": "markdown",
   "id": "470263ca",
   "metadata": {},
   "source": [
    "-변수 a의 처음~뒤에서부터 5번째 문자를 출력하시오"
   ]
  },
  {
   "cell_type": "code",
   "execution_count": 83,
   "id": "1cc5743d",
   "metadata": {},
   "outputs": [
    {
     "name": "stdout",
     "output_type": "stream",
     "text": [
      "hellow w\n"
     ]
    }
   ],
   "source": [
    "print(a[:-4])"
   ]
  },
  {
   "cell_type": "markdown",
   "id": "2023cc3f",
   "metadata": {},
   "source": [
    "- 문자열의 합"
   ]
  },
  {
   "cell_type": "code",
   "execution_count": 85,
   "id": "fcfd231d",
   "metadata": {},
   "outputs": [
    {
     "name": "stdout",
     "output_type": "stream",
     "text": [
      "helloworld\n"
     ]
    }
   ],
   "source": [
    "a = 'hello'\n",
    "b = 'world'\n",
    "print(a+b)"
   ]
  },
  {
   "cell_type": "markdown",
   "id": "6618c90f",
   "metadata": {},
   "source": [
    "- 문자열의 곱"
   ]
  },
  {
   "cell_type": "code",
   "execution_count": 86,
   "id": "75ec2706",
   "metadata": {},
   "outputs": [
    {
     "name": "stdout",
     "output_type": "stream",
     "text": [
      "hellohellohello\n"
     ]
    }
   ],
   "source": [
    "a = 'hello'\n",
    "print( a*3)"
   ]
  },
  {
   "cell_type": "markdown",
   "id": "a761b89c",
   "metadata": {},
   "source": [
    "- 문자형과 숫자형의 혼용"
   ]
  },
  {
   "cell_type": "markdown",
   "id": "d6b19cac",
   "metadata": {},
   "source": [
    "-문제: 변수(숫자)를 넣어 'My number is(변수)'를 출력하시오"
   ]
  },
  {
   "cell_type": "markdown",
   "id": "e54a87d6",
   "metadata": {},
   "source": [
    "-- 방법 1"
   ]
  },
  {
   "cell_type": "code",
   "execution_count": 87,
   "id": "a68846d3",
   "metadata": {},
   "outputs": [
    {
     "name": "stdout",
     "output_type": "stream",
     "text": [
      "My number is 1\n"
     ]
    }
   ],
   "source": [
    "a = 'My number is'\n",
    "b = 1\n",
    "print(a, b)"
   ]
  },
  {
   "cell_type": "markdown",
   "id": "f938656f",
   "metadata": {},
   "source": [
    "-- 방법 2"
   ]
  },
  {
   "cell_type": "code",
   "execution_count": 88,
   "id": "1698af62",
   "metadata": {},
   "outputs": [
    {
     "ename": "TypeError",
     "evalue": "can only concatenate str (not \"int\") to str",
     "output_type": "error",
     "traceback": [
      "\u001b[1;31m---------------------------------------------------------------------------\u001b[0m",
      "\u001b[1;31mTypeError\u001b[0m                                 Traceback (most recent call last)",
      "\u001b[1;32m~\\AppData\\Local\\Temp/ipykernel_18708/4029056557.py\u001b[0m in \u001b[0;36m<module>\u001b[1;34m\u001b[0m\n\u001b[0;32m      1\u001b[0m \u001b[0ma\u001b[0m \u001b[1;33m=\u001b[0m \u001b[1;34m'My number is'\u001b[0m\u001b[1;33m\u001b[0m\u001b[1;33m\u001b[0m\u001b[0m\n\u001b[0;32m      2\u001b[0m \u001b[0mb\u001b[0m \u001b[1;33m=\u001b[0m \u001b[1;36m1\u001b[0m\u001b[1;33m\u001b[0m\u001b[1;33m\u001b[0m\u001b[0m\n\u001b[1;32m----> 3\u001b[1;33m \u001b[0mprint\u001b[0m\u001b[1;33m(\u001b[0m\u001b[0ma\u001b[0m\u001b[1;33m+\u001b[0m\u001b[0mb\u001b[0m\u001b[1;33m)\u001b[0m\u001b[1;33m\u001b[0m\u001b[1;33m\u001b[0m\u001b[0m\n\u001b[0m",
      "\u001b[1;31mTypeError\u001b[0m: can only concatenate str (not \"int\") to str"
     ]
    }
   ],
   "source": [
    "a = 'My number is'\n",
    "b = 1\n",
    "print(a+b)"
   ]
  },
  {
   "cell_type": "markdown",
   "id": "ded8f358",
   "metadata": {},
   "source": [
    "문자형과 숫자형을 더해주기 위해서는 숫자형을 문자형으로 바꿔줘야함"
   ]
  },
  {
   "cell_type": "code",
   "execution_count": 90,
   "id": "aa9fcff2",
   "metadata": {},
   "outputs": [
    {
     "name": "stdout",
     "output_type": "stream",
     "text": [
      "My number is1\n"
     ]
    }
   ],
   "source": [
    "print(a+str(b))"
   ]
  },
  {
   "cell_type": "markdown",
   "id": "e114ddaa",
   "metadata": {},
   "source": [
    "-- 방법 3"
   ]
  },
  {
   "cell_type": "code",
   "execution_count": 91,
   "id": "62830c83",
   "metadata": {},
   "outputs": [
    {
     "name": "stdout",
     "output_type": "stream",
     "text": [
      "My number is 1\n"
     ]
    }
   ],
   "source": [
    "print('My number is {}'.format(b))"
   ]
  },
  {
   "cell_type": "markdown",
   "id": "3d2af736",
   "metadata": {},
   "source": [
    "- format"
   ]
  },
  {
   "cell_type": "markdown",
   "id": "ff30e4b8",
   "metadata": {},
   "source": [
    "-두개 이상의 값 넣기"
   ]
  },
  {
   "cell_type": "code",
   "execution_count": 92,
   "id": "98a137cb",
   "metadata": {},
   "outputs": [
    {
     "name": "stdout",
     "output_type": "stream",
     "text": [
      "오늘은 5월 10일 입니다.\n"
     ]
    }
   ],
   "source": [
    "print('오늘은 {}월 {}일 입니다.'.format(5, 10))"
   ]
  },
  {
   "cell_type": "markdown",
   "id": "a5ee3c91",
   "metadata": {},
   "source": [
    "-이름을 통한 값 넣기"
   ]
  },
  {
   "cell_type": "code",
   "execution_count": 93,
   "id": "0befcb4b",
   "metadata": {},
   "outputs": [
    {
     "name": "stdout",
     "output_type": "stream",
     "text": [
      "오늘은 5월 10일 입니다. 5월은 가정의 달입니다.\n"
     ]
    }
   ],
   "source": [
    "print('오늘은 {month}월 {day}일 입니다. {month}월은 가정의 달입니다.'.format(month=5, day=10))"
   ]
  },
  {
   "cell_type": "code",
   "execution_count": 94,
   "id": "e8097a14",
   "metadata": {},
   "outputs": [],
   "source": [
    "a = '오늘은 {month}월 {day}일 입니다. {month}월은 가정의 달입니다.'.format(month=5, day=10)"
   ]
  },
  {
   "cell_type": "code",
   "execution_count": 95,
   "id": "c129ccfc",
   "metadata": {},
   "outputs": [
    {
     "name": "stdout",
     "output_type": "stream",
     "text": [
      "오늘은 5월 10일 입니다. 5월은 가정의 달입니다.\n"
     ]
    }
   ],
   "source": [
    "print(a)"
   ]
  },
  {
   "cell_type": "markdown",
   "id": "18d6f5fa",
   "metadata": {},
   "source": [
    "- 문자열 분해"
   ]
  },
  {
   "cell_type": "markdown",
   "id": "82689675",
   "metadata": {},
   "source": [
    "-'hello world'를 'hell'와 'world'로 분리하시오"
   ]
  },
  {
   "cell_type": "code",
   "execution_count": 96,
   "id": "79402467",
   "metadata": {},
   "outputs": [],
   "source": [
    "a = 'hello world'"
   ]
  },
  {
   "cell_type": "code",
   "execution_count": 97,
   "id": "1c2f974c",
   "metadata": {},
   "outputs": [
    {
     "data": {
      "text/plain": [
       "['hello', 'world']"
      ]
     },
     "execution_count": 97,
     "metadata": {},
     "output_type": "execute_result"
    }
   ],
   "source": [
    "a.split()"
   ]
  },
  {
   "cell_type": "markdown",
   "id": "8e7069fe",
   "metadata": {},
   "source": [
    "-'I am a boy'를 각 단어를 기준으로 분리하시오"
   ]
  },
  {
   "cell_type": "code",
   "execution_count": 98,
   "id": "ec517cbf",
   "metadata": {},
   "outputs": [],
   "source": [
    "a = 'I am a boy'"
   ]
  },
  {
   "cell_type": "code",
   "execution_count": 99,
   "id": "a3c50f9f",
   "metadata": {},
   "outputs": [
    {
     "data": {
      "text/plain": [
       "['I', 'am', 'a', 'boy']"
      ]
     },
     "execution_count": 99,
     "metadata": {},
     "output_type": "execute_result"
    }
   ],
   "source": [
    "a.split()"
   ]
  },
  {
   "cell_type": "markdown",
   "id": "3110b383",
   "metadata": {},
   "source": [
    "-'I.am.a.boy'를 '.'를 기준으로 분리하시오"
   ]
  },
  {
   "cell_type": "code",
   "execution_count": 100,
   "id": "6ff0b661",
   "metadata": {},
   "outputs": [],
   "source": [
    "a = 'I.am.a.boy'"
   ]
  },
  {
   "cell_type": "code",
   "execution_count": 103,
   "id": "15970d26",
   "metadata": {},
   "outputs": [
    {
     "data": {
      "text/plain": [
       "['I.am.a.boy']"
      ]
     },
     "execution_count": 103,
     "metadata": {},
     "output_type": "execute_result"
    }
   ],
   "source": [
    "a.split()"
   ]
  },
  {
   "cell_type": "code",
   "execution_count": 102,
   "id": "3d22e5b6",
   "metadata": {},
   "outputs": [
    {
     "data": {
      "text/plain": [
       "['I', 'am', 'a', 'boy']"
      ]
     },
     "execution_count": 102,
     "metadata": {},
     "output_type": "execute_result"
    }
   ],
   "source": [
    "a.split('.')"
   ]
  },
  {
   "cell_type": "markdown",
   "id": "b51617a1",
   "metadata": {},
   "source": [
    "### 3) 리스트 "
   ]
  },
  {
   "cell_type": "markdown",
   "id": "1e0e8725",
   "metadata": {},
   "source": [
    "- 배열의 필요성"
   ]
  },
  {
   "cell_type": "markdown",
   "id": "55df3290",
   "metadata": {},
   "source": [
    "-영희는 주사위를 여섯번 던져 1,3,5,5,2,4가 나왔다. 이 결과를 변수를 이용하여 저장하여라"
   ]
  },
  {
   "cell_type": "code",
   "execution_count": 104,
   "id": "608566c2",
   "metadata": {},
   "outputs": [],
   "source": [
    "a1 = 1\n",
    "a2 = 3\n",
    "a3 = 5\n",
    "a4 = 5\n",
    "a5 = 2\n",
    "a6 = 4"
   ]
  },
  {
   "cell_type": "markdown",
   "id": "a9bbf1a0",
   "metadata": {},
   "source": [
    "-리스트를 사용하면 아래와 같이 쉽게 만들수 있음"
   ]
  },
  {
   "cell_type": "code",
   "execution_count": 105,
   "id": "f5185723",
   "metadata": {},
   "outputs": [],
   "source": [
    "a = [1, 3, 5, 5, 2, 4]"
   ]
  },
  {
   "cell_type": "code",
   "execution_count": 106,
   "id": "709dd653",
   "metadata": {},
   "outputs": [
    {
     "name": "stdout",
     "output_type": "stream",
     "text": [
      "[1, 3, 5, 5, 2, 4]\n"
     ]
    }
   ],
   "source": [
    "print(a)"
   ]
  },
  {
   "cell_type": "code",
   "execution_count": 108,
   "id": "3450f397",
   "metadata": {},
   "outputs": [
    {
     "name": "stdout",
     "output_type": "stream",
     "text": [
      "<class 'list'>\n"
     ]
    }
   ],
   "source": [
    "print(type(a))"
   ]
  },
  {
   "cell_type": "markdown",
   "id": "b0e623ec",
   "metadata": {},
   "source": [
    "- 리스트의 구조/인덱스"
   ]
  },
  {
   "cell_type": "markdown",
   "id": "9244bd2c",
   "metadata": {},
   "source": [
    "-리스트 내부에 리스트를 포함할 수도 있다."
   ]
  },
  {
   "cell_type": "code",
   "execution_count": 109,
   "id": "870efcee",
   "metadata": {},
   "outputs": [],
   "source": [
    "b = [1, [1, 2], [1, [1, 2]]]"
   ]
  },
  {
   "cell_type": "code",
   "execution_count": 111,
   "id": "c9137785",
   "metadata": {},
   "outputs": [
    {
     "name": "stdout",
     "output_type": "stream",
     "text": [
      "1\n",
      "2\n",
      "1\n"
     ]
    }
   ],
   "source": [
    "print(b[0])\n",
    "print(b[1][1])\n",
    "print(b[2][1][0])"
   ]
  },
  {
   "cell_type": "markdown",
   "id": "533b5c4d",
   "metadata": {},
   "source": [
    "- 슬라이스"
   ]
  },
  {
   "cell_type": "code",
   "execution_count": 112,
   "id": "d69e6329",
   "metadata": {},
   "outputs": [],
   "source": [
    "a = [1, [2, 3], [4, [5, 6, 7]]]"
   ]
  },
  {
   "cell_type": "code",
   "execution_count": 113,
   "id": "e68d1455",
   "metadata": {},
   "outputs": [
    {
     "name": "stdout",
     "output_type": "stream",
     "text": [
      "1\n"
     ]
    }
   ],
   "source": [
    "print(a[0])"
   ]
  },
  {
   "cell_type": "code",
   "execution_count": 114,
   "id": "f8bcf9ef",
   "metadata": {},
   "outputs": [
    {
     "name": "stdout",
     "output_type": "stream",
     "text": [
      "[4, [5, 6, 7]]\n"
     ]
    }
   ],
   "source": [
    "print(a[-1])"
   ]
  },
  {
   "cell_type": "code",
   "execution_count": 115,
   "id": "74e2fdb1",
   "metadata": {},
   "outputs": [
    {
     "name": "stdout",
     "output_type": "stream",
     "text": [
      "[[2, 3], [4, [5, 6, 7]]]\n"
     ]
    }
   ],
   "source": [
    "print(a[1:])"
   ]
  },
  {
   "cell_type": "code",
   "execution_count": 116,
   "id": "a829d250",
   "metadata": {},
   "outputs": [
    {
     "name": "stdout",
     "output_type": "stream",
     "text": [
      "[6, 7]\n"
     ]
    }
   ],
   "source": [
    "print(a[2][1][1:])"
   ]
  },
  {
   "cell_type": "markdown",
   "id": "3c4e719e",
   "metadata": {},
   "source": [
    "- 치환"
   ]
  },
  {
   "cell_type": "code",
   "execution_count": 117,
   "id": "43b554bd",
   "metadata": {},
   "outputs": [],
   "source": [
    "a = [1, [2, 3], [4, [5, 6, 7]]]"
   ]
  },
  {
   "cell_type": "code",
   "execution_count": 119,
   "id": "bd3701b8",
   "metadata": {},
   "outputs": [
    {
     "name": "stdout",
     "output_type": "stream",
     "text": [
      "[10, [2, 3], [4, [5, 6, 7]]]\n"
     ]
    }
   ],
   "source": [
    "a[0]=10\n",
    "print(a)"
   ]
  },
  {
   "cell_type": "code",
   "execution_count": 120,
   "id": "fdcb8597",
   "metadata": {},
   "outputs": [
    {
     "name": "stdout",
     "output_type": "stream",
     "text": [
      "[10, [2, 3], [4, [5, 60, 70]]]\n"
     ]
    }
   ],
   "source": [
    "a[2][1][1:]=[60, 70]\n",
    "print(a)"
   ]
  },
  {
   "cell_type": "code",
   "execution_count": 121,
   "id": "b0fa3da9",
   "metadata": {},
   "outputs": [
    {
     "ename": "TypeError",
     "evalue": "can only assign an iterable",
     "output_type": "error",
     "traceback": [
      "\u001b[1;31m---------------------------------------------------------------------------\u001b[0m",
      "\u001b[1;31mTypeError\u001b[0m                                 Traceback (most recent call last)",
      "\u001b[1;32m~\\AppData\\Local\\Temp/ipykernel_18708/616202477.py\u001b[0m in \u001b[0;36m<module>\u001b[1;34m\u001b[0m\n\u001b[1;32m----> 1\u001b[1;33m \u001b[0ma\u001b[0m\u001b[1;33m[\u001b[0m\u001b[1;36m2\u001b[0m\u001b[1;33m]\u001b[0m\u001b[1;33m[\u001b[0m\u001b[1;36m1\u001b[0m\u001b[1;33m]\u001b[0m\u001b[1;33m[\u001b[0m\u001b[1;36m1\u001b[0m\u001b[1;33m:\u001b[0m\u001b[1;33m]\u001b[0m\u001b[1;33m=\u001b[0m\u001b[1;36m50\u001b[0m\u001b[1;33m\u001b[0m\u001b[1;33m\u001b[0m\u001b[0m\n\u001b[0m\u001b[0;32m      2\u001b[0m \u001b[0mprint\u001b[0m\u001b[1;33m(\u001b[0m\u001b[0ma\u001b[0m\u001b[1;33m)\u001b[0m\u001b[1;33m\u001b[0m\u001b[1;33m\u001b[0m\u001b[0m\n",
      "\u001b[1;31mTypeError\u001b[0m: can only assign an iterable"
     ]
    }
   ],
   "source": [
    "## 하나의 값으로 바꾸려고 하면 에러가 발생함\n",
    "a[2][1][1:]=50\n",
    "print(a)"
   ]
  },
  {
   "cell_type": "code",
   "execution_count": 122,
   "id": "de131416",
   "metadata": {},
   "outputs": [
    {
     "name": "stdout",
     "output_type": "stream",
     "text": [
      "[60, 70]\n"
     ]
    }
   ],
   "source": [
    "print(a[2][1][1:])"
   ]
  },
  {
   "cell_type": "code",
   "execution_count": 123,
   "id": "b7b5d68f",
   "metadata": {},
   "outputs": [
    {
     "name": "stdout",
     "output_type": "stream",
     "text": [
      "[10, [2, 3], [4, [5, 50]]]\n"
     ]
    }
   ],
   "source": [
    "a[2][1][1:]=[50]\n",
    "print(a)"
   ]
  },
  {
   "cell_type": "markdown",
   "id": "2953c873",
   "metadata": {},
   "source": [
    "- 리스트 연산"
   ]
  },
  {
   "cell_type": "code",
   "execution_count": 124,
   "id": "c5a7af88",
   "metadata": {},
   "outputs": [],
   "source": [
    "# 리스트 더하기\n",
    "a = [1, 2, 3]\n",
    "b =[4, 5, 6]"
   ]
  },
  {
   "cell_type": "code",
   "execution_count": 126,
   "id": "37508158",
   "metadata": {},
   "outputs": [
    {
     "name": "stdout",
     "output_type": "stream",
     "text": [
      "[1, 2, 3, 4, 5, 6]\n"
     ]
    }
   ],
   "source": [
    "print(a+b)"
   ]
  },
  {
   "cell_type": "code",
   "execution_count": 127,
   "id": "5c6e0764",
   "metadata": {},
   "outputs": [],
   "source": [
    "# 리스트 곱하기\n",
    "a = [1, 2, 3]"
   ]
  },
  {
   "cell_type": "code",
   "execution_count": 128,
   "id": "0795b3ef",
   "metadata": {},
   "outputs": [
    {
     "name": "stdout",
     "output_type": "stream",
     "text": [
      "[1, 2, 3, 1, 2, 3]\n"
     ]
    }
   ],
   "source": [
    "print(a*2)"
   ]
  },
  {
   "cell_type": "markdown",
   "id": "43fd99f4",
   "metadata": {},
   "source": [
    "- append "
   ]
  },
  {
   "cell_type": "code",
   "execution_count": null,
   "id": "d1ab70b9",
   "metadata": {},
   "outputs": [],
   "source": [
    "# append 내장함수는 해당 괄호안에 있는 숫자를 뒤에 붙여줌"
   ]
  },
  {
   "cell_type": "code",
   "execution_count": 129,
   "id": "67da697f",
   "metadata": {},
   "outputs": [],
   "source": [
    "a = [1, 2, 3]"
   ]
  },
  {
   "cell_type": "code",
   "execution_count": 130,
   "id": "bf9e799e",
   "metadata": {},
   "outputs": [
    {
     "name": "stdout",
     "output_type": "stream",
     "text": [
      "[1, 2, 3, 4]\n"
     ]
    }
   ],
   "source": [
    "a.append(4)\n",
    "print(a)"
   ]
  },
  {
   "cell_type": "code",
   "execution_count": 131,
   "id": "e360c0b4",
   "metadata": {},
   "outputs": [
    {
     "name": "stdout",
     "output_type": "stream",
     "text": [
      "[1, 2, 3, [4, 5]]\n"
     ]
    }
   ],
   "source": [
    "a = [1, 2, 3]\n",
    "a.append([4, 5])\n",
    "print(a)"
   ]
  },
  {
   "cell_type": "markdown",
   "id": "9e56cc1e",
   "metadata": {},
   "source": [
    "- pop"
   ]
  },
  {
   "cell_type": "code",
   "execution_count": null,
   "id": "0abfbe3f",
   "metadata": {},
   "outputs": [],
   "source": [
    "# pop 이라는 내장함수에 숫자를 넣으면 해당 인덱스의 숫자를 없앰"
   ]
  },
  {
   "cell_type": "code",
   "execution_count": 132,
   "id": "be6cfb1b",
   "metadata": {},
   "outputs": [
    {
     "name": "stdout",
     "output_type": "stream",
     "text": [
      "[1, 2]\n"
     ]
    }
   ],
   "source": [
    "a = [1, 2, 3]\n",
    "a.pop()\n",
    "print(a)"
   ]
  },
  {
   "cell_type": "code",
   "execution_count": 133,
   "id": "26b803e5",
   "metadata": {},
   "outputs": [
    {
     "name": "stdout",
     "output_type": "stream",
     "text": [
      "[2, 3]\n"
     ]
    }
   ],
   "source": [
    "a = [1, 2, 3]\n",
    "a.pop(0)\n",
    "print(a)"
   ]
  },
  {
   "cell_type": "markdown",
   "id": "0f52d43d",
   "metadata": {},
   "source": [
    "- index"
   ]
  },
  {
   "cell_type": "code",
   "execution_count": 134,
   "id": "e976b3e5",
   "metadata": {},
   "outputs": [],
   "source": [
    "# 내장함수\n",
    "# 리스트에 속해있는 x의 위치 값 반환"
   ]
  },
  {
   "cell_type": "code",
   "execution_count": 135,
   "id": "98749bb6",
   "metadata": {},
   "outputs": [
    {
     "name": "stdout",
     "output_type": "stream",
     "text": [
      "1\n"
     ]
    }
   ],
   "source": [
    "a = [1, 2, 3]\n",
    "print(a.index(2))"
   ]
  },
  {
   "cell_type": "markdown",
   "id": "db54e439",
   "metadata": {},
   "source": [
    "### 4) 튜플"
   ]
  },
  {
   "cell_type": "code",
   "execution_count": 137,
   "id": "11883264",
   "metadata": {},
   "outputs": [],
   "source": [
    "a = (1, 2, 3)\n",
    "## 리스트는 대괄호, 튜플은 소괄호"
   ]
  },
  {
   "cell_type": "code",
   "execution_count": 140,
   "id": "7e0a19e3",
   "metadata": {},
   "outputs": [
    {
     "name": "stdout",
     "output_type": "stream",
     "text": [
      "<class 'tuple'>\n"
     ]
    }
   ],
   "source": [
    "print(type(a))"
   ]
  },
  {
   "cell_type": "markdown",
   "id": "f870b6e3",
   "metadata": {},
   "source": [
    "- 인덱스"
   ]
  },
  {
   "cell_type": "code",
   "execution_count": 141,
   "id": "a27396ab",
   "metadata": {},
   "outputs": [
    {
     "name": "stdout",
     "output_type": "stream",
     "text": [
      "2\n"
     ]
    }
   ],
   "source": [
    "print(a[1])"
   ]
  },
  {
   "cell_type": "markdown",
   "id": "99617f92",
   "metadata": {},
   "source": [
    "- 슬라이스"
   ]
  },
  {
   "cell_type": "code",
   "execution_count": 142,
   "id": "d76ea66b",
   "metadata": {},
   "outputs": [
    {
     "name": "stdout",
     "output_type": "stream",
     "text": [
      "(1, 2)\n"
     ]
    }
   ],
   "source": [
    "a = (1, 2, 3)\n",
    "print(a[:2])"
   ]
  },
  {
   "cell_type": "markdown",
   "id": "bcc8bf4f",
   "metadata": {},
   "source": [
    "- 치환하기"
   ]
  },
  {
   "cell_type": "code",
   "execution_count": 144,
   "id": "715ed118",
   "metadata": {},
   "outputs": [],
   "source": [
    "a = (1, 2, 3)"
   ]
  },
  {
   "cell_type": "code",
   "execution_count": 145,
   "id": "d72b64a3",
   "metadata": {},
   "outputs": [
    {
     "ename": "TypeError",
     "evalue": "'tuple' object does not support item assignment",
     "output_type": "error",
     "traceback": [
      "\u001b[1;31m---------------------------------------------------------------------------\u001b[0m",
      "\u001b[1;31mTypeError\u001b[0m                                 Traceback (most recent call last)",
      "\u001b[1;32m~\\AppData\\Local\\Temp/ipykernel_18708/581081153.py\u001b[0m in \u001b[0;36m<module>\u001b[1;34m\u001b[0m\n\u001b[1;32m----> 1\u001b[1;33m \u001b[0ma\u001b[0m\u001b[1;33m[\u001b[0m\u001b[1;36m2\u001b[0m\u001b[1;33m]\u001b[0m \u001b[1;33m=\u001b[0m \u001b[1;36m0\u001b[0m\u001b[1;33m\u001b[0m\u001b[1;33m\u001b[0m\u001b[0m\n\u001b[0m",
      "\u001b[1;31mTypeError\u001b[0m: 'tuple' object does not support item assignment"
     ]
    }
   ],
   "source": [
    "a[2] = 0\n",
    "## 리스트는 치환 가능 튜플은 치환 불가능"
   ]
  },
  {
   "cell_type": "markdown",
   "id": "e9df69a7",
   "metadata": {},
   "source": [
    "- 튜플 연산"
   ]
  },
  {
   "cell_type": "code",
   "execution_count": 146,
   "id": "3bcbcc35",
   "metadata": {},
   "outputs": [],
   "source": [
    "# 더하기\n",
    "a = (1, 2, 3)\n",
    "b = (4, 5, 6)"
   ]
  },
  {
   "cell_type": "code",
   "execution_count": 147,
   "id": "23e666cd",
   "metadata": {},
   "outputs": [
    {
     "name": "stdout",
     "output_type": "stream",
     "text": [
      "(1, 2, 3, 4, 5, 6)\n"
     ]
    }
   ],
   "source": [
    "c = a + b\n",
    "print(c)"
   ]
  },
  {
   "cell_type": "code",
   "execution_count": 148,
   "id": "d866b92b",
   "metadata": {},
   "outputs": [],
   "source": [
    "# 곱하기\n",
    "a = (1, 2, 3)"
   ]
  },
  {
   "cell_type": "code",
   "execution_count": 149,
   "id": "7214215b",
   "metadata": {},
   "outputs": [
    {
     "name": "stdout",
     "output_type": "stream",
     "text": [
      "(1, 2, 3, 1, 2, 3)\n"
     ]
    }
   ],
   "source": [
    "b = a*2\n",
    "print(b)"
   ]
  },
  {
   "cell_type": "markdown",
   "id": "257e886c",
   "metadata": {},
   "source": [
    "### 5) 딕셔너리"
   ]
  },
  {
   "cell_type": "markdown",
   "id": "ceb73ff8",
   "metadata": {},
   "source": [
    "- 생성방법"
   ]
  },
  {
   "cell_type": "markdown",
   "id": "dfa37e1c",
   "metadata": {},
   "source": [
    "-딕셔너리(dict)는 Key와 Value로 구성"
   ]
  },
  {
   "cell_type": "code",
   "execution_count": 150,
   "id": "04f9b175",
   "metadata": {},
   "outputs": [
    {
     "name": "stdout",
     "output_type": "stream",
     "text": [
      "{'사자': 'lion', '호랑이': 'tiger', '용': 'dragon'}\n"
     ]
    }
   ],
   "source": [
    "a = {'사자':'lion', '호랑이':'tiger', '용':'dragon'}\n",
    "print(a)"
   ]
  },
  {
   "cell_type": "code",
   "execution_count": 151,
   "id": "c1305b26",
   "metadata": {},
   "outputs": [
    {
     "name": "stdout",
     "output_type": "stream",
     "text": [
      "<class 'dict'>\n"
     ]
    }
   ],
   "source": [
    "print(type(a))"
   ]
  },
  {
   "cell_type": "markdown",
   "id": "e1a18469",
   "metadata": {},
   "source": [
    "- 하나의 Key에 여러개의 Value로도 구성이 가능"
   ]
  },
  {
   "cell_type": "code",
   "execution_count": 152,
   "id": "a21ec73c",
   "metadata": {},
   "outputs": [
    {
     "name": "stdout",
     "output_type": "stream",
     "text": [
      "{'car': ['bus', 'truck', 'taxi'], 'train': 'ktx'}\n"
     ]
    }
   ],
   "source": [
    "a = {'car':['bus', 'truck', 'taxi'],\n",
    "    'train':'ktx'}\n",
    "print(a)"
   ]
  },
  {
   "cell_type": "markdown",
   "id": "111c236c",
   "metadata": {},
   "source": [
    "- Key 얻기"
   ]
  },
  {
   "cell_type": "code",
   "execution_count": 153,
   "id": "fc0353a5",
   "metadata": {},
   "outputs": [],
   "source": [
    "a = {'car':['bus', 'truck', 'taxi'],\n",
    "    'train':'ktx'}"
   ]
  },
  {
   "cell_type": "code",
   "execution_count": 154,
   "id": "b0d63005",
   "metadata": {},
   "outputs": [
    {
     "name": "stdout",
     "output_type": "stream",
     "text": [
      "dict_keys(['car', 'train'])\n"
     ]
    }
   ],
   "source": [
    "key=a.keys()\n",
    "print(key)"
   ]
  },
  {
   "cell_type": "code",
   "execution_count": 155,
   "id": "f00c9a92",
   "metadata": {},
   "outputs": [
    {
     "name": "stdout",
     "output_type": "stream",
     "text": [
      "<class 'dict_keys'>\n"
     ]
    }
   ],
   "source": [
    "print(type(key))"
   ]
  },
  {
   "cell_type": "code",
   "execution_count": 156,
   "id": "fcd221d5",
   "metadata": {},
   "outputs": [
    {
     "ename": "TypeError",
     "evalue": "'dict_keys' object is not subscriptable",
     "output_type": "error",
     "traceback": [
      "\u001b[1;31m---------------------------------------------------------------------------\u001b[0m",
      "\u001b[1;31mTypeError\u001b[0m                                 Traceback (most recent call last)",
      "\u001b[1;32m~\\AppData\\Local\\Temp/ipykernel_18708/967045602.py\u001b[0m in \u001b[0;36m<module>\u001b[1;34m\u001b[0m\n\u001b[1;32m----> 1\u001b[1;33m \u001b[0mprint\u001b[0m\u001b[1;33m(\u001b[0m\u001b[0mkey\u001b[0m\u001b[1;33m[\u001b[0m\u001b[1;36m0\u001b[0m\u001b[1;33m]\u001b[0m\u001b[1;33m)\u001b[0m\u001b[1;33m\u001b[0m\u001b[1;33m\u001b[0m\u001b[0m\n\u001b[0m",
      "\u001b[1;31mTypeError\u001b[0m: 'dict_keys' object is not subscriptable"
     ]
    }
   ],
   "source": [
    "print(key[0])\n",
    "## 인덱스해서 추출하면 에러가 발생함\n",
    "## 해결법: 형변환하기"
   ]
  },
  {
   "cell_type": "code",
   "execution_count": 157,
   "id": "38eadd4e",
   "metadata": {},
   "outputs": [
    {
     "name": "stdout",
     "output_type": "stream",
     "text": [
      "<class 'list'>\n"
     ]
    }
   ],
   "source": [
    "key2=list(key)\n",
    "print(type(key2))"
   ]
  },
  {
   "cell_type": "code",
   "execution_count": 159,
   "id": "278d22fa",
   "metadata": {},
   "outputs": [
    {
     "name": "stdout",
     "output_type": "stream",
     "text": [
      "car\n"
     ]
    }
   ],
   "source": [
    "print(key2[0])"
   ]
  },
  {
   "cell_type": "markdown",
   "id": "a8cd929e",
   "metadata": {},
   "source": [
    "- Value 얻기"
   ]
  },
  {
   "cell_type": "code",
   "execution_count": 160,
   "id": "938cfff7",
   "metadata": {},
   "outputs": [],
   "source": [
    "a = {'car':['bus', 'truck', 'taxi'],\n",
    "    'train':'ktx'}"
   ]
  },
  {
   "cell_type": "code",
   "execution_count": 161,
   "id": "bdf213c6",
   "metadata": {},
   "outputs": [
    {
     "name": "stdout",
     "output_type": "stream",
     "text": [
      "dict_values([['bus', 'truck', 'taxi'], 'ktx'])\n"
     ]
    }
   ],
   "source": [
    "value = a.values()\n",
    "print(value)"
   ]
  },
  {
   "cell_type": "code",
   "execution_count": 163,
   "id": "b2584db5",
   "metadata": {},
   "outputs": [
    {
     "name": "stdout",
     "output_type": "stream",
     "text": [
      "<class 'dict_values'>\n"
     ]
    }
   ],
   "source": [
    "print(type(value))"
   ]
  },
  {
   "cell_type": "code",
   "execution_count": 164,
   "id": "4ac1e415",
   "metadata": {},
   "outputs": [
    {
     "ename": "TypeError",
     "evalue": "'dict_values' object is not subscriptable",
     "output_type": "error",
     "traceback": [
      "\u001b[1;31m---------------------------------------------------------------------------\u001b[0m",
      "\u001b[1;31mTypeError\u001b[0m                                 Traceback (most recent call last)",
      "\u001b[1;32m~\\AppData\\Local\\Temp/ipykernel_18708/2108696499.py\u001b[0m in \u001b[0;36m<module>\u001b[1;34m\u001b[0m\n\u001b[1;32m----> 1\u001b[1;33m \u001b[0mprint\u001b[0m\u001b[1;33m(\u001b[0m\u001b[0mvalue\u001b[0m\u001b[1;33m[\u001b[0m\u001b[1;36m0\u001b[0m\u001b[1;33m]\u001b[0m\u001b[1;33m)\u001b[0m\u001b[1;33m\u001b[0m\u001b[1;33m\u001b[0m\u001b[0m\n\u001b[0m\u001b[0;32m      2\u001b[0m \u001b[1;31m## value도 역시 에러가 발생해서 형변환해야함\u001b[0m\u001b[1;33m\u001b[0m\u001b[1;33m\u001b[0m\u001b[0m\n",
      "\u001b[1;31mTypeError\u001b[0m: 'dict_values' object is not subscriptable"
     ]
    }
   ],
   "source": [
    "print(value[0])\n",
    "## value도 역시 에러가 발생해서 형변환해야함"
   ]
  },
  {
   "cell_type": "code",
   "execution_count": 165,
   "id": "9a8cc1e6",
   "metadata": {},
   "outputs": [
    {
     "name": "stdout",
     "output_type": "stream",
     "text": [
      "<class 'list'>\n"
     ]
    }
   ],
   "source": [
    "value2 = list(value)\n",
    "print(type(value2))"
   ]
  },
  {
   "cell_type": "code",
   "execution_count": 166,
   "id": "5bf6c341",
   "metadata": {},
   "outputs": [
    {
     "name": "stdout",
     "output_type": "stream",
     "text": [
      "['bus', 'truck', 'taxi']\n"
     ]
    }
   ],
   "source": [
    "print(value2[0])"
   ]
  },
  {
   "cell_type": "markdown",
   "id": "e834da3d",
   "metadata": {},
   "source": [
    "- 요소 추가하기"
   ]
  },
  {
   "cell_type": "code",
   "execution_count": 167,
   "id": "a79b775a",
   "metadata": {},
   "outputs": [],
   "source": [
    "a = {'car':['bus', 'truck', 'taxi'],\n",
    "    'train':'ktx'}"
   ]
  },
  {
   "cell_type": "code",
   "execution_count": 168,
   "id": "d50b2253",
   "metadata": {},
   "outputs": [
    {
     "name": "stdout",
     "output_type": "stream",
     "text": [
      "{'car': ['bus', 'truck', 'taxi'], 'train': 'ktx', 'plane': 'jet'}\n"
     ]
    }
   ],
   "source": [
    "a['plane']='jet'\n",
    "print(a)"
   ]
  },
  {
   "cell_type": "markdown",
   "id": "5c65b77a",
   "metadata": {},
   "source": [
    "- 요소 삭제하기"
   ]
  },
  {
   "cell_type": "code",
   "execution_count": 172,
   "id": "3e5fc132",
   "metadata": {},
   "outputs": [],
   "source": [
    "a = {'car':['bus', 'truck', 'taxi'],\n",
    "    'train':'ktx'}"
   ]
  },
  {
   "cell_type": "code",
   "execution_count": 173,
   "id": "ce4248bd",
   "metadata": {},
   "outputs": [
    {
     "name": "stdout",
     "output_type": "stream",
     "text": [
      "{'train': 'ktx'}\n"
     ]
    }
   ],
   "source": [
    "del a['car']\n",
    "print(a)"
   ]
  },
  {
   "cell_type": "code",
   "execution_count": null,
   "id": "9785a9c7",
   "metadata": {},
   "outputs": [],
   "source": []
  }
 ],
 "metadata": {
  "kernelspec": {
   "display_name": "Python 3 (ipykernel)",
   "language": "python",
   "name": "python3"
  },
  "language_info": {
   "codemirror_mode": {
    "name": "ipython",
    "version": 3
   },
   "file_extension": ".py",
   "mimetype": "text/x-python",
   "name": "python",
   "nbconvert_exporter": "python",
   "pygments_lexer": "ipython3",
   "version": "3.9.7"
  }
 },
 "nbformat": 4,
 "nbformat_minor": 5
}
