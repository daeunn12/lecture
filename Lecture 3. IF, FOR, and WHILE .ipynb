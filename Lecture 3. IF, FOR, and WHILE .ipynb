{
 "cells": [
  {
   "cell_type": "markdown",
   "id": "9aed40fe",
   "metadata": {},
   "source": [
    "# IF statement (condition)\n",
    "\n",
    "```python\n",
    "if (condition):\n",
    "    statement\n",
    "```\n",
    "와 같이 condition이 TRUE일 경우 수행하는 조건문\n",
    "\n",
    "- 조건문은 boolean 으로 표현\n",
    "- 들여쓰기 된 코드를 블록 (block)이라고 표현\n",
    "- 모든 블록의 시작점의 마지막에는 :을 사용\n"
   ]
  },
  {
   "cell_type": "code",
   "execution_count": null,
   "id": "173b3d1a",
   "metadata": {},
   "outputs": [],
   "source": [
    "## condition이 TRUE일 경우\n",
    "if 2 >= 0:\n",
    "    print('2 is a positive number')"
   ]
  },
  {
   "cell_type": "code",
   "execution_count": null,
   "id": "c012d75d",
   "metadata": {},
   "outputs": [],
   "source": [
    "## condition이 FALSE일 경우\n",
    "if -2 >= 0:\n",
    "    print('2 is a positive number')"
   ]
  },
  {
   "cell_type": "code",
   "execution_count": null,
   "id": "350d3a0a",
   "metadata": {},
   "outputs": [],
   "source": [
    "## 들여쓰기 주의\n",
    "if 3 == 10:\n",
    "    print('6 is greater than 5')\n",
    "print('This is not true')"
   ]
  },
  {
   "cell_type": "markdown",
   "id": "7a878e05",
   "metadata": {},
   "source": [
    "### if의 조건이 bool이 아닌 경우도 있음\n",
    "\n",
    "- 정수, 실수, 문자열 같은 기본타입도 조건에 사용 가능\n",
    "- FALSE로 간주 되는 값\n",
    "\n",
    "    - None\n",
    "    - 0\n",
    "    - ''\n",
    "    - []\n",
    "    - ()\n",
    "    - {}\n",
    "    - set()\n",
    "- 그외에는 모두 TRUE로 간주"
   ]
  },
  {
   "cell_type": "code",
   "execution_count": null,
   "id": "de86fb8c",
   "metadata": {},
   "outputs": [],
   "source": [
    "if 5:\n",
    "    print('hi')"
   ]
  },
  {
   "cell_type": "code",
   "execution_count": null,
   "id": "c4cbb0f3",
   "metadata": {},
   "outputs": [],
   "source": [
    "a = 0\n",
    "if a:\n",
    "    print('hi')"
   ]
  },
  {
   "cell_type": "code",
   "execution_count": null,
   "id": "0899b79a",
   "metadata": {},
   "outputs": [],
   "source": [
    "a = []\n",
    "if a:\n",
    "    print('hi')"
   ]
  },
  {
   "cell_type": "markdown",
   "id": "400b6614",
   "metadata": {},
   "source": [
    "### else\n",
    "\n",
    "- if 가 참이 아닐 경우 다른 statement를 실행시키고 싶다면 else를 사용\n",
    "- if A else B 일경우 if 조건이 True이면 A 실행, False이면 B 실행"
   ]
  },
  {
   "cell_type": "code",
   "execution_count": null,
   "id": "c89050bb",
   "metadata": {},
   "outputs": [],
   "source": [
    "a = 5\n",
    "\n",
    "if a % 2 == 0:\n",
    "    print('even')\n",
    "else:\n",
    "    print('odd')"
   ]
  },
  {
   "cell_type": "markdown",
   "id": "b13e6d1d",
   "metadata": {},
   "source": [
    "### elif\n",
    "\n",
    "- 조건문이 여러개일 경우 elif사용\n",
    "- true일 경우 실행"
   ]
  },
  {
   "cell_type": "code",
   "execution_count": null,
   "id": "65ac4384",
   "metadata": {},
   "outputs": [],
   "source": [
    "a = 17\n",
    "\n",
    "if a % 5 == 0: \n",
    "    print('a is divisible by 5')\n",
    "elif a % 5 == 1:\n",
    "    print('a % 5 is 1')\n",
    "elif a % 5 == 2:\n",
    "    print('a % 5 is 2')\n",
    "elif a % 5 == 3:\n",
    "    print('a % 5 is 3')\n",
    "else:\n",
    "    print('a % 5 is 4')"
   ]
  },
  {
   "cell_type": "code",
   "execution_count": null,
   "id": "1a3f8a0d",
   "metadata": {},
   "outputs": [],
   "source": [
    "## a가 주어지면 a가 소수(prime number)이냐고 퀴즈 나올 수 있음 (for, if 등등 여러가지 섞어서)"
   ]
  },
  {
   "cell_type": "markdown",
   "id": "73074e37",
   "metadata": {},
   "source": [
    "# While statement (loop)\n",
    "\n",
    "- For과 함께 대표적인 반복문\n",
    "- For와 다르게 반복문을 멈추게 할 장치가 필요\n",
    "- while 이 true일 경우 무한으로 수행\n",
    "- 반면 False일 경우 멈춤"
   ]
  },
  {
   "cell_type": "code",
   "execution_count": null,
   "id": "c6b43229",
   "metadata": {},
   "outputs": [],
   "source": [
    "a = [1, 3, 5, 4, 7, 8, 9, 10, 13]\n",
    "\n",
    "i = 0\n",
    "while i < len(a):\n",
    "    print('value: ', a[i], ', index ', i)\n",
    "    i += 1\n",
    "## 0에서 부터 인덱스 시작하기 때문에 i = 0"
   ]
  },
  {
   "cell_type": "code",
   "execution_count": null,
   "id": "1bf6542a",
   "metadata": {},
   "outputs": [],
   "source": [
    "a = [1, 3, 5, 4, 7, 8, 9, 10, 13]\n",
    "print(len(a))\n",
    "i = 0\n",
    "while i < len(a): ##len(a)=9\n",
    "    print('value: ', a[i], ', index ', i)\n",
    "    i += 1\n",
    "## 실제 길이는 9지만 인덱스는 8\n",
    "## len과 index 헷갈리지 않게 조심!!"
   ]
  },
  {
   "cell_type": "code",
   "execution_count": null,
   "id": "380230df",
   "metadata": {},
   "outputs": [],
   "source": [
    "a = [1, 3, 5, 4, 7, 8, 9, 10, 13]\n",
    "\n",
    "i = 0  # start index\n",
    "while i < len(a): # len(a) = 9\n",
    "    if a[i] > 10:\n",
    "        print(a[i])\n",
    "    i += 1\n",
    "## 문제: 10보다 큰 숫자 찾기"
   ]
  },
  {
   "cell_type": "code",
   "execution_count": null,
   "id": "f08a60ea",
   "metadata": {},
   "outputs": [],
   "source": [
    "## 이거 돌리면 무한루프에 뻐짐\n",
    "while True:\n",
    "    print('print')"
   ]
  },
  {
   "cell_type": "markdown",
   "id": "ed76b707",
   "metadata": {},
   "source": [
    "### break \n",
    " - 루프를 중단하거나 빠져나올때 사용"
   ]
  },
  {
   "cell_type": "code",
   "execution_count": null,
   "id": "cd704dd7",
   "metadata": {},
   "outputs": [],
   "source": [
    "a = [1, 3, 10, 9, 8, 20, 22, 26, 33]\n",
    "\n",
    "i = 0\n",
    "while i < len(a):\n",
    "    if a[i] > 20:\n",
    "        break\n",
    "    print(a[i])\n",
    "    i += 1"
   ]
  },
  {
   "cell_type": "markdown",
   "id": "1abe0a0f",
   "metadata": {},
   "source": [
    "### continue\n",
    " + break와 달리 계속 while 안의 블록 실행\n",
    " + skip으로도 사용"
   ]
  },
  {
   "cell_type": "code",
   "execution_count": null,
   "id": "d06b7e3b",
   "metadata": {},
   "outputs": [],
   "source": [
    "a = 10\n",
    "while a > 0:\n",
    "    a -= 1\n",
    "    if a == 5:\n",
    "        continue ## a==5가 false면 continue 실행 안 시킴\n",
    "    print(a)"
   ]
  },
  {
   "cell_type": "markdown",
   "id": "bc700fdb",
   "metadata": {},
   "source": [
    "# For statement (loop)\n",
    "\n",
    "- while과 달리 리스트, 문자열 등 순회 가능한 객체를 순회하면서 값을 처리할 때 사용\n",
    "- i를 늘려줄 필요 없이 데이터의 length 또는 dim에 따라서 순회"
   ]
  },
  {
   "cell_type": "code",
   "execution_count": null,
   "id": "d3a42470",
   "metadata": {},
   "outputs": [],
   "source": [
    "# list\n",
    "\n",
    "a = [1, 2, 4, 3, 5]\n",
    "for i in a:\n",
    "    print(i, i*2)"
   ]
  },
  {
   "cell_type": "code",
   "execution_count": null,
   "id": "b1322e8e",
   "metadata": {},
   "outputs": [],
   "source": [
    "# string\n",
    "\n",
    "a = 'hello python'\n",
    "for char in a:\n",
    "    print(char)"
   ]
  },
  {
   "cell_type": "code",
   "execution_count": null,
   "id": "1ee1ae52",
   "metadata": {},
   "outputs": [],
   "source": [
    "# dictionary\n",
    "\n",
    "a = {'Korea' : 'seoul', 'Japen' : 'tokyo', 'China' : 'beijing'}\n",
    "for k in a:\n",
    "    print(k, a[k])"
   ]
  },
  {
   "cell_type": "code",
   "execution_count": null,
   "id": "dc7bc0b6",
   "metadata": {},
   "outputs": [],
   "source": [
    "for key in a:\n",
    "    print(key)"
   ]
  },
  {
   "cell_type": "code",
   "execution_count": null,
   "id": "ac079fc6",
   "metadata": {},
   "outputs": [],
   "source": [
    "for value in a.values():\n",
    "    print(value)"
   ]
  },
  {
   "cell_type": "code",
   "execution_count": null,
   "id": "f717825e",
   "metadata": {},
   "outputs": [],
   "source": [
    "a = [100, 90, 80, 70, 60, 50]\n",
    "for num in a:\n",
    "    if num < 30:\n",
    "        break\n",
    "    print(num)"
   ]
  },
  {
   "cell_type": "code",
   "execution_count": null,
   "id": "38d4587b",
   "metadata": {},
   "outputs": [],
   "source": [
    "## 중요 <중간고사>\n",
    "a = [100, 90, 80, 70, 60, 50]\n",
    "for num in a:\n",
    "    if num > 60 and num <=70:\n",
    "        continue\n",
    "    print(num)"
   ]
  },
  {
   "cell_type": "code",
   "execution_count": 11,
   "id": "17160954",
   "metadata": {},
   "outputs": [
    {
     "name": "stdout",
     "output_type": "stream",
     "text": [
      "1\n",
      "2\n",
      "4\n",
      "2\n",
      "4\n",
      "8\n",
      "4\n",
      "8\n",
      "16\n"
     ]
    }
   ],
   "source": [
    "a = [1, 2, 4]\n",
    "for i in a:\n",
    "    for j in a:\n",
    "        print(i*j)"
   ]
  },
  {
   "cell_type": "markdown",
   "id": "daa32233",
   "metadata": {},
   "source": [
    "- range() 함수\n",
    "    - R에서 seq과 비슷한 함수"
   ]
  },
  {
   "cell_type": "code",
   "execution_count": 12,
   "id": "876c5235",
   "metadata": {},
   "outputs": [
    {
     "data": {
      "text/plain": [
       "[0, 1, 2, 3, 4, 5, 6, 7, 8, 9]"
      ]
     },
     "execution_count": 12,
     "metadata": {},
     "output_type": "execute_result"
    }
   ],
   "source": [
    "list(range(10))"
   ]
  },
  {
   "cell_type": "code",
   "execution_count": 13,
   "id": "6a3a1bc1",
   "metadata": {},
   "outputs": [
    {
     "data": {
      "text/plain": [
       "[1, 6, 11, 16, 21, 26, 31, 36, 41, 46, 51, 56, 61, 66, 71, 76, 81, 86, 91, 96]"
      ]
     },
     "execution_count": 13,
     "metadata": {},
     "output_type": "execute_result"
    }
   ],
   "source": [
    "list(range(1, 101, 5))"
   ]
  },
  {
   "cell_type": "code",
   "execution_count": null,
   "id": "ac539927",
   "metadata": {},
   "outputs": [],
   "source": []
  },
  {
   "cell_type": "code",
   "execution_count": 5,
   "id": "57bce3a4",
   "metadata": {
    "scrolled": true
   },
   "outputs": [
    {
     "name": "stdout",
     "output_type": "stream",
     "text": [
      "2 * 1 = 2\n",
      "2 * 2 = 4\n",
      "2 * 3 = 6\n",
      "2 * 4 = 8\n",
      "2 * 5 = 10\n",
      "2 * 6 = 12\n",
      "2 * 7 = 14\n",
      "2 * 8 = 16\n",
      "2 * 9 = 18\n",
      "-------------\n",
      "3 * 1 = 3\n",
      "3 * 2 = 6\n",
      "3 * 3 = 9\n",
      "3 * 4 = 12\n",
      "3 * 5 = 15\n",
      "3 * 6 = 18\n",
      "3 * 7 = 21\n",
      "3 * 8 = 24\n",
      "3 * 9 = 27\n",
      "-------------\n",
      "4 * 1 = 4\n",
      "4 * 2 = 8\n",
      "4 * 3 = 12\n",
      "4 * 4 = 16\n",
      "4 * 5 = 20\n",
      "4 * 6 = 24\n",
      "4 * 7 = 28\n",
      "4 * 8 = 32\n",
      "4 * 9 = 36\n",
      "-------------\n",
      "5 * 1 = 5\n",
      "5 * 2 = 10\n",
      "5 * 3 = 15\n",
      "5 * 4 = 20\n",
      "5 * 5 = 25\n",
      "5 * 6 = 30\n",
      "5 * 7 = 35\n",
      "5 * 8 = 40\n",
      "5 * 9 = 45\n",
      "-------------\n",
      "6 * 1 = 6\n",
      "6 * 2 = 12\n",
      "6 * 3 = 18\n",
      "6 * 4 = 24\n",
      "6 * 5 = 30\n",
      "6 * 6 = 36\n",
      "6 * 7 = 42\n",
      "6 * 8 = 48\n",
      "6 * 9 = 54\n",
      "-------------\n",
      "7 * 1 = 7\n",
      "7 * 2 = 14\n",
      "7 * 3 = 21\n",
      "7 * 4 = 28\n",
      "7 * 5 = 35\n",
      "7 * 6 = 42\n",
      "7 * 7 = 49\n",
      "7 * 8 = 56\n",
      "7 * 9 = 63\n",
      "-------------\n",
      "8 * 1 = 8\n",
      "8 * 2 = 16\n",
      "8 * 3 = 24\n",
      "8 * 4 = 32\n",
      "8 * 5 = 40\n",
      "8 * 6 = 48\n",
      "8 * 7 = 56\n",
      "8 * 8 = 64\n",
      "8 * 9 = 72\n",
      "-------------\n",
      "9 * 1 = 9\n",
      "9 * 2 = 18\n",
      "9 * 3 = 27\n",
      "9 * 4 = 36\n",
      "9 * 5 = 45\n",
      "9 * 6 = 54\n",
      "9 * 7 = 63\n",
      "9 * 8 = 72\n",
      "9 * 9 = 81\n",
      "-------------\n"
     ]
    }
   ],
   "source": [
    "for i in range(2, 10):\n",
    "    for j in range(1, 10):\n",
    "        print(i, '*', j, '=', i*j)\n",
    "        if (j == 9):\n",
    "            print('-------------')"
   ]
  },
  {
   "cell_type": "code",
   "execution_count": 7,
   "id": "56ef49e5",
   "metadata": {},
   "outputs": [
    {
     "name": "stdout",
     "output_type": "stream",
     "text": [
      "3 * 1 = 3\n",
      "3 * 2 = 6\n",
      "3 * 3 = 9\n",
      "3 * 4 = 12\n",
      "3 * 5 = 15\n",
      "3 * 6 = 18\n",
      "3 * 7 = 21\n",
      "3 * 8 = 24\n",
      "3 * 9 = 27\n",
      "-------------\n",
      "5 * 1 = 5\n",
      "5 * 2 = 10\n",
      "5 * 3 = 15\n",
      "5 * 4 = 20\n",
      "5 * 5 = 25\n",
      "5 * 6 = 30\n",
      "5 * 7 = 35\n",
      "5 * 8 = 40\n",
      "5 * 9 = 45\n",
      "-------------\n",
      "7 * 1 = 7\n",
      "7 * 2 = 14\n",
      "7 * 3 = 21\n",
      "7 * 4 = 28\n",
      "7 * 5 = 35\n",
      "7 * 6 = 42\n",
      "7 * 7 = 49\n",
      "7 * 8 = 56\n",
      "7 * 9 = 63\n",
      "-------------\n",
      "9 * 1 = 9\n",
      "9 * 2 = 18\n",
      "9 * 3 = 27\n",
      "9 * 4 = 36\n",
      "9 * 5 = 45\n",
      "9 * 6 = 54\n",
      "9 * 7 = 63\n",
      "9 * 8 = 72\n",
      "9 * 9 = 81\n",
      "-------------\n"
     ]
    }
   ],
   "source": [
    "## 홀수 \n",
    "for i in range(2, 10):\n",
    "    if i % 2 == 0:\n",
    "        continue\n",
    "    for j in range(1, 10):\n",
    "        print(i, '*', j, '=', i*j)\n",
    "        if (j == 9):\n",
    "            print('-------------')"
   ]
  },
  {
   "cell_type": "code",
   "execution_count": 8,
   "id": "2d44b196",
   "metadata": {},
   "outputs": [
    {
     "name": "stdout",
     "output_type": "stream",
     "text": [
      "2 * 1 = 2\n",
      "2 * 2 = 4\n",
      "2 * 3 = 6\n",
      "2 * 4 = 8\n",
      "2 * 5 = 10\n",
      "2 * 6 = 12\n",
      "2 * 7 = 14\n",
      "2 * 8 = 16\n",
      "2 * 9 = 18\n",
      "-------------\n",
      "4 * 1 = 4\n",
      "4 * 2 = 8\n",
      "4 * 3 = 12\n",
      "4 * 4 = 16\n",
      "4 * 5 = 20\n",
      "4 * 6 = 24\n",
      "4 * 7 = 28\n",
      "4 * 8 = 32\n",
      "4 * 9 = 36\n",
      "-------------\n",
      "6 * 1 = 6\n",
      "6 * 2 = 12\n",
      "6 * 3 = 18\n",
      "6 * 4 = 24\n",
      "6 * 5 = 30\n",
      "6 * 6 = 36\n",
      "6 * 7 = 42\n",
      "6 * 8 = 48\n",
      "6 * 9 = 54\n",
      "-------------\n",
      "8 * 1 = 8\n",
      "8 * 2 = 16\n",
      "8 * 3 = 24\n",
      "8 * 4 = 32\n",
      "8 * 5 = 40\n",
      "8 * 6 = 48\n",
      "8 * 7 = 56\n",
      "8 * 8 = 64\n",
      "8 * 9 = 72\n",
      "-------------\n"
     ]
    }
   ],
   "source": [
    "## 짝수 \n",
    "for i in range(2, 10):\n",
    "    if i % 2 == 1:\n",
    "        continue\n",
    "    for j in range(1, 10):\n",
    "        print(i, '*', j, '=', i*j)\n",
    "        if (j == 9):\n",
    "            print('-------------')"
   ]
  },
  {
   "cell_type": "code",
   "execution_count": 6,
   "id": "9a5f5818",
   "metadata": {},
   "outputs": [
    {
     "name": "stdout",
     "output_type": "stream",
     "text": [
      "2 x 1 = 2\n",
      "2 x 2 = 4\n",
      "2 x 3 = 6\n",
      "2 x 4 = 8\n",
      "2 x 5 = 10\n",
      "2 x 6 = 12\n",
      "2 x 7 = 14\n",
      "2 x 8 = 16\n",
      "2 x 9 = 18\n",
      "3 x 1 = 3\n",
      "3 x 2 = 6\n",
      "3 x 3 = 9\n",
      "3 x 4 = 12\n",
      "3 x 5 = 15\n",
      "3 x 6 = 18\n",
      "3 x 7 = 21\n",
      "3 x 8 = 24\n",
      "3 x 9 = 27\n"
     ]
    }
   ],
   "source": [
    "i = 1\n",
    "while i < 3:\n",
    "    i = i + 1\n",
    "    j = 1\n",
    "    while j < 10:\n",
    "        print(i, 'x', j, '=', i*j)\n",
    "        j = j + 1"
   ]
  },
  {
   "cell_type": "code",
   "execution_count": 1,
   "id": "68311bd6",
   "metadata": {},
   "outputs": [
    {
     "name": "stdout",
     "output_type": "stream",
     "text": [
      "1 x 1 = 1\n",
      "1 x 2 = 2\n",
      "1 x 3 = 3\n",
      "1 x 4 = 4\n",
      "1 x 5 = 5\n",
      "1 x 6 = 6\n",
      "1 x 7 = 7\n",
      "1 x 8 = 8\n",
      "1 x 9 = 9\n",
      "3 x 1 = 3\n",
      "3 x 2 = 6\n",
      "3 x 3 = 9\n",
      "3 x 4 = 12\n",
      "3 x 5 = 15\n",
      "3 x 6 = 18\n",
      "3 x 7 = 21\n",
      "3 x 8 = 24\n",
      "3 x 9 = 27\n",
      "5 x 1 = 5\n",
      "5 x 2 = 10\n",
      "5 x 3 = 15\n",
      "5 x 4 = 20\n",
      "5 x 5 = 25\n",
      "5 x 6 = 30\n",
      "5 x 7 = 35\n",
      "5 x 8 = 40\n",
      "5 x 9 = 45\n",
      "7 x 1 = 7\n",
      "7 x 2 = 14\n",
      "7 x 3 = 21\n",
      "7 x 4 = 28\n",
      "7 x 5 = 35\n",
      "7 x 6 = 42\n",
      "7 x 7 = 49\n",
      "7 x 8 = 56\n",
      "7 x 9 = 63\n",
      "9 x 1 = 9\n",
      "9 x 2 = 18\n",
      "9 x 3 = 27\n",
      "9 x 4 = 36\n",
      "9 x 5 = 45\n",
      "9 x 6 = 54\n",
      "9 x 7 = 63\n",
      "9 x 8 = 72\n",
      "9 x 9 = 81\n"
     ]
    }
   ],
   "source": [
    "i = 1\n",
    "while i < 10:\n",
    "    if i % 2 == 0:\n",
    "        i = i + 1\n",
    "    j = 1\n",
    "    while j < 10:\n",
    "        print(i, 'x', j, '=', i*j)\n",
    "        j = j + 1\n",
    "    i = i + 1"
   ]
  },
  {
   "cell_type": "markdown",
   "id": "5e969249",
   "metadata": {},
   "source": [
    "## 퀴즈\n",
    "\n",
    "```1) 피보나치 수열 함수로 이용하여 만들어라\n",
    "2) for문과 if문을 이용해서 짝수 구구단 실행(for문 안에서도 짝수가 나와야함)\n",
    "3) while문과 if문을 사용해 소수 구구단 출력 (10까지)(2, 3, 5, 7)\n",
    "4) 주어진 숫자 (a = list) sort와 sorted 함수를 사용하지 않고 최댓값 구하기\n",
    "5) 4번의 최솟값 구하기```"
   ]
  },
  {
   "cell_type": "code",
   "execution_count": 1,
   "id": "6f20c4da",
   "metadata": {},
   "outputs": [],
   "source": [
    "## 1) 피보나치 수열 \n",
    "\n",
    "def fib(n):\n",
    "    if n == 0:\n",
    "        return 0\n",
    "    elif n ==1 or n ==2:\n",
    "        return 1\n",
    "    else:\n",
    "        return fib(n-1) + fib(n-2)"
   ]
  },
  {
   "cell_type": "code",
   "execution_count": 2,
   "id": "df936c02",
   "metadata": {},
   "outputs": [
    {
     "data": {
      "text/plain": [
       "55"
      ]
     },
     "execution_count": 2,
     "metadata": {},
     "output_type": "execute_result"
    }
   ],
   "source": [
    "fib(10)"
   ]
  },
  {
   "cell_type": "code",
   "execution_count": 4,
   "id": "78585f6e",
   "metadata": {},
   "outputs": [
    {
     "name": "stdout",
     "output_type": "stream",
     "text": [
      "2 x 1 = 2\n",
      "2 x 2 = 4\n",
      "2 x 3 = 6\n",
      "2 x 4 = 8\n",
      "2 x 5 = 10\n",
      "2 x 6 = 12\n",
      "2 x 7 = 14\n",
      "2 x 8 = 16\n",
      "2 x 9 = 18\n",
      "4 x 1 = 4\n",
      "4 x 2 = 8\n",
      "4 x 3 = 12\n",
      "4 x 4 = 16\n",
      "4 x 5 = 20\n",
      "4 x 6 = 24\n",
      "4 x 7 = 28\n",
      "4 x 8 = 32\n",
      "4 x 9 = 36\n",
      "6 x 1 = 6\n",
      "6 x 2 = 12\n",
      "6 x 3 = 18\n",
      "6 x 4 = 24\n",
      "6 x 5 = 30\n",
      "6 x 6 = 36\n",
      "6 x 7 = 42\n",
      "6 x 8 = 48\n",
      "6 x 9 = 54\n",
      "8 x 1 = 8\n",
      "8 x 2 = 16\n",
      "8 x 3 = 24\n",
      "8 x 4 = 32\n",
      "8 x 5 = 40\n",
      "8 x 6 = 48\n",
      "8 x 7 = 56\n",
      "8 x 8 = 64\n",
      "8 x 9 = 72\n"
     ]
    }
   ],
   "source": [
    "## 2) 짝수 구구단 실행 \n",
    "\n",
    "for i in range(2, 10):\n",
    "    if i % 2 == 1:\n",
    "        continue\n",
    "    for j in range(1, 10):\n",
    "        print(i, 'x', j, '=', i*j)"
   ]
  },
  {
   "cell_type": "code",
   "execution_count": 3,
   "id": "76206770",
   "metadata": {},
   "outputs": [
    {
     "name": "stdout",
     "output_type": "stream",
     "text": [
      "2 x 1 = 2\n",
      "2 x 2 = 4\n",
      "2 x 3 = 6\n",
      "2 x 4 = 8\n",
      "2 x 5 = 10\n",
      "2 x 6 = 12\n",
      "2 x 7 = 14\n",
      "2 x 8 = 16\n",
      "2 x 9 = 18\n",
      "4 x 1 = 4\n",
      "4 x 2 = 8\n",
      "4 x 3 = 12\n",
      "4 x 4 = 16\n",
      "4 x 5 = 20\n",
      "4 x 6 = 24\n",
      "4 x 7 = 28\n",
      "4 x 8 = 32\n",
      "4 x 9 = 36\n",
      "6 x 1 = 6\n",
      "6 x 2 = 12\n",
      "6 x 3 = 18\n",
      "6 x 4 = 24\n",
      "6 x 5 = 30\n",
      "6 x 6 = 36\n",
      "6 x 7 = 42\n",
      "6 x 8 = 48\n",
      "6 x 9 = 54\n",
      "8 x 1 = 8\n",
      "8 x 2 = 16\n",
      "8 x 3 = 24\n",
      "8 x 4 = 32\n",
      "8 x 5 = 40\n",
      "8 x 6 = 48\n",
      "8 x 7 = 56\n",
      "8 x 8 = 64\n",
      "8 x 9 = 72\n"
     ]
    }
   ],
   "source": [
    "## 2) 짝수 구구단 실행 \n",
    "\n",
    "for i in range(2, 10):\n",
    "    for j in range(1, 10):\n",
    "        if i % 2 == 0:\n",
    "            print(i, 'x', j, '=', i*j)"
   ]
  },
  {
   "cell_type": "code",
   "execution_count": 9,
   "id": "fdd4be20",
   "metadata": {},
   "outputs": [
    {
     "name": "stdout",
     "output_type": "stream",
     "text": [
      "2\n"
     ]
    }
   ],
   "source": [
    "## 4) 최솟값 구하기\n",
    "\n",
    "mmm=[10, 15, 100, 4, 3, 2]\n",
    "mn= mmm[0]\n",
    "for i in mmm:\n",
    "    if i < mn:\n",
    "        mn = i\n",
    "print(mn)"
   ]
  },
  {
   "cell_type": "code",
   "execution_count": 11,
   "id": "13e79255",
   "metadata": {},
   "outputs": [
    {
     "name": "stdout",
     "output_type": "stream",
     "text": [
      "100\n"
     ]
    }
   ],
   "source": [
    "## 5) 최댓값 구하기\n",
    "\n",
    "xxx=[5, 10, 20, 30, 100, 3, 5, 2]\n",
    "mx = xxx[0]\n",
    "for i in xxx:\n",
    "    if i > mx:\n",
    "        mx = i\n",
    "print(mx)"
   ]
  },
  {
   "cell_type": "code",
   "execution_count": null,
   "id": "a51d606c",
   "metadata": {},
   "outputs": [],
   "source": []
  }
 ],
 "metadata": {
  "kernelspec": {
   "display_name": "Python 3 (ipykernel)",
   "language": "python",
   "name": "python3"
  },
  "language_info": {
   "codemirror_mode": {
    "name": "ipython",
    "version": 3
   },
   "file_extension": ".py",
   "mimetype": "text/x-python",
   "name": "python",
   "nbconvert_exporter": "python",
   "pygments_lexer": "ipython3",
   "version": "3.9.7"
  }
 },
 "nbformat": 4,
 "nbformat_minor": 5
}
