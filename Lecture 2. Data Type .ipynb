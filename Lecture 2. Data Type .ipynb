{
 "cells": [
  {
   "cell_type": "markdown",
   "id": "d050e70f",
   "metadata": {},
   "source": [
    "## Data Type (2)\n",
    "\n",
    "### dictionary\n",
    "\n",
    "- 이름: 안경민, 전공: 통계학과 처럼 대응 관계를 나타낼 수 있는 자료형\n",
    "- 키 (key)와 값 (value)으로 구성\n",
    "- 영한 사전처럼 football을 찾으면 football:미식축구가 되는것처럼 사전과 비슷한 구조\n",
    "  - 이 때 football은 key, 미식축구는 value가 된다.\n",
    "- associative array, hash 와 같음"
   ]
  },
  {
   "cell_type": "code",
   "execution_count": 1,
   "id": "36197a2d",
   "metadata": {
    "scrolled": true
   },
   "outputs": [
    {
     "name": "stdout",
     "output_type": "stream",
     "text": [
      "{'Korea': 'Seoul', 'Japan': 'Tokyo', 'USA': 'Washington DC'}\n"
     ]
    }
   ],
   "source": [
    "a = {'Korea' : 'Seoul',\n",
    "    'Japan' : 'Tokyo',\n",
    "    'USA' : 'Washington DC'}\n",
    "print(a)\n",
    "# type(a)"
   ]
  },
  {
   "cell_type": "code",
   "execution_count": 2,
   "id": "2b5f7e90",
   "metadata": {},
   "outputs": [
    {
     "data": {
      "text/plain": [
       "dict"
      ]
     },
     "execution_count": 2,
     "metadata": {},
     "output_type": "execute_result"
    }
   ],
   "source": [
    "type(a)"
   ]
  },
  {
   "cell_type": "code",
   "execution_count": 4,
   "id": "e9db3b84",
   "metadata": {},
   "outputs": [
    {
     "name": "stdout",
     "output_type": "stream",
     "text": [
      "Seoul\n"
     ]
    }
   ],
   "source": [
    "print(a['Korea'])"
   ]
  },
  {
   "cell_type": "code",
   "execution_count": 12,
   "id": "b56ed9b2",
   "metadata": {},
   "outputs": [
    {
     "name": "stdout",
     "output_type": "stream",
     "text": [
      "{0: 10, 1: 20, 3: 30, 4: 40}\n",
      "10\n"
     ]
    }
   ],
   "source": [
    "b = {0 : 10, 1 : 20, 3 : 30, 4 : 40}\n",
    "print(b)\n",
    "print(b[0])"
   ]
  },
  {
   "cell_type": "markdown",
   "id": "de3aa970",
   "metadata": {},
   "source": [
    "- 기존 dictionary에 키가 존재하면 해당되는 새로운 값을 업데이트 하거나 존재하지 않을 경우 새로운 키와 값을 생성 가능\n"
   ]
  },
  {
   "cell_type": "code",
   "execution_count": 14,
   "id": "e3c8a68f",
   "metadata": {},
   "outputs": [
    {
     "name": "stdout",
     "output_type": "stream",
     "text": [
      "{'Korea': 'Seoul', 'Japan': 'Osaka', 'USA': 'Washington DC', 'China': 'Beijing'}\n"
     ]
    }
   ],
   "source": [
    "a['Japan'] = 'Osaka'\n",
    "a['China'] = 'Beijing'\n",
    "print(a)"
   ]
  },
  {
   "cell_type": "markdown",
   "id": "e621248e",
   "metadata": {},
   "source": [
    "- **update()**\n",
    " - 두개의 딕셔너리를 병합\n",
    " - 중복되는 키가 있다면 입력되는 키의 값으로 update 됨."
   ]
  },
  {
   "cell_type": "code",
   "execution_count": 17,
   "id": "f4071b58",
   "metadata": {},
   "outputs": [
    {
     "name": "stdout",
     "output_type": "stream",
     "text": [
      "{'a': 10, 'b': 20, 'c': 30, 'e': 1, 'd': 40}\n"
     ]
    }
   ],
   "source": [
    "a = {'a' : 10, 'b' : 20, 'c' : 30}\n",
    "b = {'e' : 1, 'd' : 40}\n",
    "\n",
    "a.update(b)\n",
    "print(a)"
   ]
  },
  {
   "cell_type": "code",
   "execution_count": 18,
   "id": "a6ac6d0c",
   "metadata": {},
   "outputs": [
    {
     "name": "stdout",
     "output_type": "stream",
     "text": [
      "{'e': 1, 'd': 40, 'a': 10, 'b': 20, 'c': 30}\n"
     ]
    }
   ],
   "source": [
    "a = {'a' : 10, 'b' : 20, 'c' : 30}\n",
    "b = {'e' : 1, 'd' : 40}\n",
    "\n",
    "b.update(a)\n",
    "print(b)"
   ]
  },
  {
   "cell_type": "code",
   "execution_count": 6,
   "id": "9e3397a2",
   "metadata": {},
   "outputs": [
    {
     "name": "stdout",
     "output_type": "stream",
     "text": [
      "{'a': 10, 'c': 30, 'b': 20}\n"
     ]
    }
   ],
   "source": [
    "a = {'a' : 10, 'b' : 20}\n",
    "b ={'a' : 30, 'c' : 30}\n",
    "\n",
    "b.update(a)\n",
    "print(b)"
   ]
  },
  {
   "cell_type": "markdown",
   "id": "8d88c743",
   "metadata": {},
   "source": [
    "- **key 삭제**\n",
    " - del 키워드 사용"
   ]
  },
  {
   "cell_type": "code",
   "execution_count": 19,
   "id": "6e62de75",
   "metadata": {},
   "outputs": [
    {
     "name": "stdout",
     "output_type": "stream",
     "text": [
      "10\n"
     ]
    }
   ],
   "source": [
    "a = 10\n",
    "print(a)"
   ]
  },
  {
   "cell_type": "code",
   "execution_count": 20,
   "id": "15ae2542",
   "metadata": {},
   "outputs": [
    {
     "ename": "NameError",
     "evalue": "name 'a' is not defined",
     "output_type": "error",
     "traceback": [
      "\u001b[1;31m---------------------------------------------------------------------------\u001b[0m",
      "\u001b[1;31mNameError\u001b[0m                                 Traceback (most recent call last)",
      "Input \u001b[1;32mIn [20]\u001b[0m, in \u001b[0;36m<cell line: 2>\u001b[1;34m()\u001b[0m\n\u001b[0;32m      1\u001b[0m \u001b[38;5;28;01mdel\u001b[39;00m a\n\u001b[1;32m----> 2\u001b[0m \u001b[38;5;28mprint\u001b[39m(\u001b[43ma\u001b[49m)\n",
      "\u001b[1;31mNameError\u001b[0m: name 'a' is not defined"
     ]
    }
   ],
   "source": [
    "del a\n",
    "print(a)"
   ]
  },
  {
   "cell_type": "code",
   "execution_count": 24,
   "id": "f1fd7604",
   "metadata": {},
   "outputs": [
    {
     "name": "stdout",
     "output_type": "stream",
     "text": [
      "{'a': 10, 'c': 30}\n"
     ]
    }
   ],
   "source": [
    "a = {'a' : 10, 'b' : 20, 'c' : 30}\n",
    "\n",
    "del a['b']\n",
    "print(a)"
   ]
  },
  {
   "cell_type": "markdown",
   "id": "86a25453",
   "metadata": {},
   "source": [
    "- **clear()**\n",
    " - 딕셔너리의 키와 값을 *초기화*\n",
    " - del는 삭제를 하지만 clear()는 삭제가 되지는 않음"
   ]
  },
  {
   "cell_type": "code",
   "execution_count": 26,
   "id": "b6f7baf5",
   "metadata": {},
   "outputs": [
    {
     "name": "stdout",
     "output_type": "stream",
     "text": [
      "{'a': 10, 'c': 30}\n",
      "{}\n"
     ]
    }
   ],
   "source": [
    "print(a)\n",
    "\n",
    "a.clear()\n",
    "\n",
    "print(a)"
   ]
  },
  {
   "cell_type": "markdown",
   "id": "1ba4b775",
   "metadata": {},
   "source": [
    "- **in**\n",
    " - dictionary 안에 key 값이 존재 확인 \n",
    " - cf. R에서는 %in%과 같은 기능"
   ]
  },
  {
   "cell_type": "code",
   "execution_count": 28,
   "id": "3f5fd907",
   "metadata": {},
   "outputs": [
    {
     "data": {
      "text/plain": [
       "False"
      ]
     },
     "execution_count": 28,
     "metadata": {},
     "output_type": "execute_result"
    }
   ],
   "source": [
    "b = {'a' : 10, 'b' : 20, 'c' : 30}\n",
    "\n",
    "'b' in a\n",
    "## in 중요"
   ]
  },
  {
   "cell_type": "code",
   "execution_count": 16,
   "id": "154a07bf",
   "metadata": {},
   "outputs": [
    {
     "name": "stdout",
     "output_type": "stream",
     "text": [
      "True\n"
     ]
    }
   ],
   "source": [
    "a = {'a' : 10, 'b' : 20}\n",
    "\n",
    "print('b' in a)"
   ]
  },
  {
   "cell_type": "markdown",
   "id": "68705eea",
   "metadata": {},
   "source": [
    "- ** keys() values() **\n",
    " + keys() - 키만 출력\n",
    " + values() - 값만 출력\n",
    " + items() - 키, 값을 튜플 형식으로 출력"
   ]
  },
  {
   "cell_type": "code",
   "execution_count": 36,
   "id": "d959294f",
   "metadata": {},
   "outputs": [
    {
     "name": "stdout",
     "output_type": "stream",
     "text": [
      "{'a': 10, 'b': 20, 'c': 30}\n",
      "dict_keys(['a', 'b', 'c'])\n",
      "dict_values([10, 20, 30])\n",
      "['a', 'b', 'c']\n",
      "[10, 20, 30]\n",
      "[dict_items([('a', 10), ('b', 20), ('c', 30)])]\n",
      "list[dict_items([('a', 10), ('b', 20), ('c', 30)])]\n"
     ]
    }
   ],
   "source": [
    "a = {'a' : 10, 'b' : 20, 'c' : 30}\n",
    "\n",
    "print(a)\n",
    "print(a.keys())\n",
    "print(a.values())\n",
    "\n",
    "print(list(a.keys()))\n",
    "print(list(a.values()))\n",
    "\n",
    "print([a.items()])\n",
    "print(list[a.items()])\n",
    "## keys, values 합친것 -> items"
   ]
  },
  {
   "cell_type": "markdown",
   "id": "6ad1023d",
   "metadata": {},
   "source": [
    " **set**\n",
    " - 수학에서 집합과 같은 개념\n",
    " - '{ }'를 사용"
   ]
  },
  {
   "cell_type": "code",
   "execution_count": 4,
   "id": "a888e624",
   "metadata": {},
   "outputs": [
    {
     "name": "stdout",
     "output_type": "stream",
     "text": [
      "{1, 2, 3, 4, 5}\n"
     ]
    },
    {
     "data": {
      "text/plain": [
       "set"
      ]
     },
     "execution_count": 4,
     "metadata": {},
     "output_type": "execute_result"
    }
   ],
   "source": [
    "a = {1, 1, 2, 3, 3, 1, 4, 5}\n",
    "print(a)\n",
    "type(a)\n",
    "## 중복된 값 중 하나만 출력됨"
   ]
  },
  {
   "cell_type": "code",
   "execution_count": 17,
   "id": "cbd2ad95",
   "metadata": {},
   "outputs": [
    {
     "name": "stdout",
     "output_type": "stream",
     "text": [
      "{1, 2, 3, 4}\n"
     ]
    },
    {
     "data": {
      "text/plain": [
       "set"
      ]
     },
     "execution_count": 17,
     "metadata": {},
     "output_type": "execute_result"
    }
   ],
   "source": [
    "a = {1, 1, 2, 3, 3, 4}\n",
    "print(a)\n",
    "type(a)"
   ]
  },
  {
   "cell_type": "markdown",
   "id": "da292ce8",
   "metadata": {},
   "source": [
    "- set()으로 집합으로 변환"
   ]
  },
  {
   "cell_type": "code",
   "execution_count": 7,
   "id": "7e84321b",
   "metadata": {},
   "outputs": [
    {
     "data": {
      "text/plain": [
       "set"
      ]
     },
     "execution_count": 7,
     "metadata": {},
     "output_type": "execute_result"
    }
   ],
   "source": [
    "a = set()\n",
    "type(a)"
   ]
  },
  {
   "cell_type": "code",
   "execution_count": 20,
   "id": "ef66605b",
   "metadata": {},
   "outputs": [
    {
     "name": "stdout",
     "output_type": "stream",
     "text": [
      "{1, 2, 3, 4}\n",
      "<class 'set'>\n"
     ]
    }
   ],
   "source": [
    "a = set({1, 2, 3, 3, 4})\n",
    "print(a)\n",
    "print(type(a))"
   ]
  },
  {
   "cell_type": "code",
   "execution_count": 21,
   "id": "24eb7542",
   "metadata": {},
   "outputs": [
    {
     "name": "stdout",
     "output_type": "stream",
     "text": [
      "<class 'dict'>\n"
     ]
    }
   ],
   "source": [
    "a = {'a' : 10}\n",
    "print(type(a))"
   ]
  },
  {
   "cell_type": "code",
   "execution_count": 8,
   "id": "0bfd2b6e",
   "metadata": {},
   "outputs": [
    {
     "ename": "TypeError",
     "evalue": "'set' object is not subscriptable",
     "output_type": "error",
     "traceback": [
      "\u001b[1;31m---------------------------------------------------------------------------\u001b[0m",
      "\u001b[1;31mTypeError\u001b[0m                                 Traceback (most recent call last)",
      "Input \u001b[1;32mIn [8]\u001b[0m, in \u001b[0;36m<cell line: 1>\u001b[1;34m()\u001b[0m\n\u001b[1;32m----> 1\u001b[0m \u001b[38;5;28mprint\u001b[39m(\u001b[43ma\u001b[49m\u001b[43m[\u001b[49m\u001b[38;5;241;43m0\u001b[39;49m\u001b[43m]\u001b[49m)\n",
      "\u001b[1;31mTypeError\u001b[0m: 'set' object is not subscriptable"
     ]
    }
   ],
   "source": [
    "print(a[0]) ## set은 인덱싱이 안 됨"
   ]
  },
  {
   "cell_type": "code",
   "execution_count": 14,
   "id": "b38bb0d8",
   "metadata": {},
   "outputs": [
    {
     "name": "stdout",
     "output_type": "stream",
     "text": [
      "[1, 1, 2, 3, 3, 3, 3, 4, 5]\n",
      "{1, 2, 3, 4, 5}\n"
     ]
    },
    {
     "data": {
      "text/plain": [
       "set"
      ]
     },
     "execution_count": 14,
     "metadata": {},
     "output_type": "execute_result"
    }
   ],
   "source": [
    "b = [1, 1, 2, 3, 3, 3, 3, 4, 5]\n",
    "print(b)\n",
    "\n",
    "c = set(b)\n",
    "print(c)\n",
    "type(c)"
   ]
  },
  {
   "cell_type": "markdown",
   "id": "e5d41b71",
   "metadata": {},
   "source": [
    "- set operations\n",
    "\n",
    " - 집합 연산과 동일\n",
    "     - 교집합, 합집합, 차집합"
   ]
  },
  {
   "cell_type": "code",
   "execution_count": 17,
   "id": "47972953",
   "metadata": {},
   "outputs": [
    {
     "name": "stdout",
     "output_type": "stream",
     "text": [
      "{1, 2, 3}\n",
      "{2}\n",
      "{1}\n",
      "False\n",
      "True\n"
     ]
    }
   ],
   "source": [
    "a = {1, 2}\n",
    "b = {2, 3}\n",
    "c = {1, 2, 3}\n",
    "\n",
    "print(a.union(b))\n",
    "print(a.intersection(b))\n",
    "print(a.difference(b))\n",
    "print(a.issubset(b)) ## 부분집합\n",
    "print(a.issubset(c))"
   ]
  },
  {
   "cell_type": "markdown",
   "id": "42d314db",
   "metadata": {},
   "source": [
    "### **리스트 & 튜플**\n",
    "\n",
    "- 여러개의 값을 담을 수 있는 데이터\n",
    "- list vs. tuple\n",
    "    - list: 생성된 후에 변경이 가능\n",
    "    - tuple: 생성된 후에 변경이 불가능"
   ]
  },
  {
   "cell_type": "markdown",
   "id": "da1d8fcd",
   "metadata": {},
   "source": [
    "#### **리스트**\n",
    " - [] 로 생성\n",
    " - list() 함수로 생성\n",
    " - str.split()함수로 생성"
   ]
  },
  {
   "cell_type": "markdown",
   "id": "96b0b41b",
   "metadata": {},
   "source": [
    "- [] 생성 예시"
   ]
  },
  {
   "cell_type": "code",
   "execution_count": 26,
   "id": "e6a3d75d",
   "metadata": {},
   "outputs": [
    {
     "name": "stdout",
     "output_type": "stream",
     "text": [
      "[]\n"
     ]
    }
   ],
   "source": [
    "a = []\n",
    "print(a)"
   ]
  },
  {
   "cell_type": "code",
   "execution_count": 27,
   "id": "2fcac6a3",
   "metadata": {},
   "outputs": [
    {
     "name": "stdout",
     "output_type": "stream",
     "text": [
      "<class 'dict'>\n"
     ]
    }
   ],
   "source": [
    "a = {}\n",
    "print(type(a))"
   ]
  },
  {
   "cell_type": "code",
   "execution_count": 27,
   "id": "e1677824",
   "metadata": {},
   "outputs": [
    {
     "name": "stdout",
     "output_type": "stream",
     "text": [
      "[1, 2, 3, 4]\n"
     ]
    },
    {
     "data": {
      "text/plain": [
       "list"
      ]
     },
     "execution_count": 27,
     "metadata": {},
     "output_type": "execute_result"
    }
   ],
   "source": [
    "a = [1, 2, 3, 4]\n",
    "print(a)\n",
    "type(a)"
   ]
  },
  {
   "cell_type": "code",
   "execution_count": 32,
   "id": "b7833138",
   "metadata": {},
   "outputs": [
    {
     "name": "stdout",
     "output_type": "stream",
     "text": [
      "['professor', 'student', 1, 2, 100, 200]\n"
     ]
    }
   ],
   "source": [
    "b = ['professor', 'student',1, 2, 100, 200]\n",
    "print(b)"
   ]
  },
  {
   "cell_type": "markdown",
   "id": "9ee88f80",
   "metadata": {},
   "source": [
    "- list() 함수 예시\n",
    " - 다른 데이터도 이 함수를 사용해서 리스트로 변환 가능"
   ]
  },
  {
   "cell_type": "code",
   "execution_count": 28,
   "id": "052ccc89",
   "metadata": {},
   "outputs": [
    {
     "name": "stdout",
     "output_type": "stream",
     "text": [
      "<class 'list'>\n",
      "['H', 'e', 'l', 'l', 'o', ' ', 'p', 'y', 't', 'h', 'o', 'n']\n"
     ]
    }
   ],
   "source": [
    "a = 'Hello python'\n",
    "b = list(a)\n",
    "print(type(b))\n",
    "print(b)"
   ]
  },
  {
   "cell_type": "code",
   "execution_count": 30,
   "id": "ff27d49b",
   "metadata": {},
   "outputs": [
    {
     "name": "stdout",
     "output_type": "stream",
     "text": [
      "(1, 2, 3)\n",
      "<class 'tuple'>\n",
      "[1, 2, 3]\n",
      "<class 'list'>\n"
     ]
    }
   ],
   "source": [
    "c = (1, 2, 3)\n",
    "print(c)\n",
    "print(type(c))\n",
    "d = list(c)\n",
    "print(d)\n",
    "print(type(b))\n",
    "## 튜플도 리스트로 변경 가능"
   ]
  },
  {
   "cell_type": "markdown",
   "id": "e334bac2",
   "metadata": {},
   "source": [
    "- **string split**\n",
    " - 구분자로 구분되는 리스트를 반환"
   ]
  },
  {
   "cell_type": "code",
   "execution_count": 38,
   "id": "b308bdcc",
   "metadata": {},
   "outputs": [
    {
     "data": {
      "text/plain": [
       "['hello', 'python']"
      ]
     },
     "execution_count": 38,
     "metadata": {},
     "output_type": "execute_result"
    }
   ],
   "source": [
    "a = 'hello python'\n",
    "a.split()"
   ]
  },
  {
   "cell_type": "markdown",
   "id": "698e049d",
   "metadata": {},
   "source": [
    "### **List indexing**\n",
    "\n",
    "- 문자열의 순서\n",
    "- [i] 로 해당 위치의 항목을 갖고옴\n",
    "- [-i]는 마지막 원소부터 시작"
   ]
  },
  {
   "cell_type": "code",
   "execution_count": 42,
   "id": "1843a785",
   "metadata": {},
   "outputs": [
    {
     "name": "stdout",
     "output_type": "stream",
     "text": [
      "3\n",
      "5\n"
     ]
    }
   ],
   "source": [
    "a = [1, 2, 3, 4, 5]\n",
    "print(a[2])\n",
    "print(a[-1])"
   ]
  },
  {
   "cell_type": "markdown",
   "id": "b72c76df",
   "metadata": {},
   "source": [
    "### **리스트 접근**\n",
    " - 인덱스를 이용하여 값 수정 가능"
   ]
  },
  {
   "cell_type": "code",
   "execution_count": 32,
   "id": "2175614a",
   "metadata": {},
   "outputs": [
    {
     "name": "stdout",
     "output_type": "stream",
     "text": [
      "i\n",
      "u love u u love u\n",
      "u love u\n",
      "i love u\n"
     ]
    }
   ],
   "source": [
    "a = 'i love u'\n",
    "print(a[0])\n",
    "\n",
    "b = 'u love u'\n",
    "c = 'u' + a[1:]\n",
    "print(b,c)\n",
    "\n",
    "d = a.replace('i', 'u')\n",
    "print(d)\n",
    "print(a)"
   ]
  },
  {
   "cell_type": "code",
   "execution_count": 48,
   "id": "e2a85784",
   "metadata": {},
   "outputs": [
    {
     "name": "stdout",
     "output_type": "stream",
     "text": [
      "[10, 2, 3, 4, 5]\n"
     ]
    }
   ],
   "source": [
    "a = [1, 2, 3, 4, 5]\n",
    "a[0] = 10\n",
    "print(a)"
   ]
  },
  {
   "cell_type": "markdown",
   "id": "690d011f",
   "metadata": {},
   "source": [
    "### **list slicing**\n",
    " - 문자열 슬라이싱\n",
    " - 결과는 list로 반환"
   ]
  },
  {
   "cell_type": "code",
   "execution_count": 49,
   "id": "2be4504d",
   "metadata": {},
   "outputs": [
    {
     "name": "stdout",
     "output_type": "stream",
     "text": [
      "[4]\n",
      "[1, 2, 3, 4, 5]\n",
      "[4, 5]\n",
      "[1, 2, 3, 4, 5]\n"
     ]
    }
   ],
   "source": [
    "a = [1, 2, 3, 4, 5]\n",
    "print(a[3:4])\n",
    "print(a[:5])\n",
    "print(a[3:])\n",
    "print(a[:])"
   ]
  },
  {
   "cell_type": "markdown",
   "id": "23fbde72",
   "metadata": {},
   "source": [
    "### list 멤버 함수\n"
   ]
  },
  {
   "cell_type": "markdown",
   "id": "b0f39117",
   "metadata": {},
   "source": [
    "- **append()**: 리스트의 끝에 값 추가"
   ]
  },
  {
   "cell_type": "code",
   "execution_count": 50,
   "id": "d1ae1448",
   "metadata": {},
   "outputs": [
    {
     "name": "stdout",
     "output_type": "stream",
     "text": [
      "[1, 2, 3, 4, 5, 10]\n"
     ]
    }
   ],
   "source": [
    "a = [1, 2, 3, 4, 5]\n",
    "a.append(10)\n",
    "print(a)"
   ]
  },
  {
   "cell_type": "markdown",
   "id": "b9cb6819",
   "metadata": {},
   "source": [
    "- **extend()**: 리스트를 연장"
   ]
  },
  {
   "cell_type": "code",
   "execution_count": 35,
   "id": "1c6af40a",
   "metadata": {},
   "outputs": [
    {
     "name": "stdout",
     "output_type": "stream",
     "text": [
      "[1, 2, 3, 4, 5, 6, 7, 8, 9, 10]\n"
     ]
    }
   ],
   "source": [
    "a = [1, 2,3, 4, 5]\n",
    "b = [6, 7, 8, 9, 10]\n",
    "a.extend(b)\n",
    "print(a)"
   ]
  },
  {
   "cell_type": "code",
   "execution_count": 52,
   "id": "72974af2",
   "metadata": {},
   "outputs": [
    {
     "name": "stdout",
     "output_type": "stream",
     "text": [
      "[1, 2, 3, 4, 5, 6, 7, 8, 9, 10]\n"
     ]
    }
   ],
   "source": [
    "a = [1, 2, 3, 4, 5]\n",
    "a += b\n",
    "print(a)"
   ]
  },
  {
   "cell_type": "markdown",
   "id": "5cae51d5",
   "metadata": {},
   "source": [
    "- **insert()**\" 항목 추가"
   ]
  },
  {
   "cell_type": "code",
   "execution_count": 8,
   "id": "158894d5",
   "metadata": {},
   "outputs": [
    {
     "name": "stdout",
     "output_type": "stream",
     "text": [
      "[1, 2, 3, 4, 5]\n"
     ]
    }
   ],
   "source": [
    "a = [1, 3, 4, 5]\n",
    "a.insert(1, 2) #(index, object)\n",
    "\n",
    "print(a) ## 퀴즈 (헷갈림 주의)"
   ]
  },
  {
   "cell_type": "code",
   "execution_count": 37,
   "id": "e2ce7521",
   "metadata": {},
   "outputs": [
    {
     "name": "stdout",
     "output_type": "stream",
     "text": [
      "[1, 3, 4, 5, 7]\n"
     ]
    }
   ],
   "source": [
    "a = [1, 3, 5, 7]\n",
    "a.insert(2, 4)\n",
    "print(a)"
   ]
  },
  {
   "cell_type": "markdown",
   "id": "39876e96",
   "metadata": {},
   "source": [
    "- **remove()**: 항목 삭제"
   ]
  },
  {
   "cell_type": "code",
   "execution_count": 11,
   "id": "7de94a05",
   "metadata": {
    "scrolled": true
   },
   "outputs": [
    {
     "name": "stdout",
     "output_type": "stream",
     "text": [
      "[1, 2, 4, 5]\n"
     ]
    }
   ],
   "source": [
    "a = [1, 2, 3, 4, 5]\n",
    "a.remove(3) ##괄호 안은 index가 아니라 value\n",
    "\n",
    "print(a)"
   ]
  },
  {
   "cell_type": "code",
   "execution_count": 12,
   "id": "292cdcb1",
   "metadata": {},
   "outputs": [
    {
     "name": "stdout",
     "output_type": "stream",
     "text": [
      "[1, 2, 3, 4, 5]\n"
     ]
    }
   ],
   "source": [
    "a = [1, 2, 3, 3, 4, 5]\n",
    "a.remove(3)  ## 중복 값이 존재하면 첫번째 값만 제거 ## Remove first occurrence of value\n",
    "print(a)"
   ]
  },
  {
   "cell_type": "markdown",
   "id": "ac749fff",
   "metadata": {},
   "source": [
    "- **index()**: 값의 인덱스 반환"
   ]
  },
  {
   "cell_type": "code",
   "execution_count": 13,
   "id": "06a30904",
   "metadata": {},
   "outputs": [
    {
     "data": {
      "text/plain": [
       "5"
      ]
     },
     "execution_count": 13,
     "metadata": {},
     "output_type": "execute_result"
    }
   ],
   "source": [
    "a = [1, 2, 3, 4, 5, 10]\n",
    "a.index(10) ## Return first index of value."
   ]
  },
  {
   "cell_type": "code",
   "execution_count": 40,
   "id": "a467ad40",
   "metadata": {},
   "outputs": [
    {
     "name": "stdout",
     "output_type": "stream",
     "text": [
      "2\n",
      "[1, 2, 3, 3]\n"
     ]
    }
   ],
   "source": [
    "a = [1, 2, 3, 3]\n",
    "a.index(3)\n",
    "print(a)"
   ]
  },
  {
   "cell_type": "markdown",
   "id": "0200e8c7",
   "metadata": {},
   "source": [
    "- **in 키워드**: 리스트 내에 해당 값이 존재하는지 확인"
   ]
  },
  {
   "cell_type": "code",
   "execution_count": 42,
   "id": "b3e7b8a5",
   "metadata": {},
   "outputs": [
    {
     "name": "stdout",
     "output_type": "stream",
     "text": [
      "False\n"
     ]
    }
   ],
   "source": [
    "a = [1, 2, 3, 4, 5]\n",
    "b = 10\n",
    "\n",
    "c = b in a\n",
    "print(c)"
   ]
  },
  {
   "cell_type": "code",
   "execution_count": 43,
   "id": "4b92e27f",
   "metadata": {},
   "outputs": [
    {
     "name": "stdout",
     "output_type": "stream",
     "text": [
      "True\n"
     ]
    }
   ],
   "source": [
    "a = [1, 2, 3, 4, 5]\n",
    "b = 2\n",
    "\n",
    "c = b in a\n",
    "print(c)"
   ]
  },
  {
   "cell_type": "markdown",
   "id": "ccc48a4d",
   "metadata": {},
   "source": [
    "* **list 정렬**\n",
    " - sort() -> 리스트 자체를 내부적으로 정렬\n",
    " - sorted() -> 리스트의 정렬된 복사본을 반환"
   ]
  },
  {
   "cell_type": "code",
   "execution_count": 15,
   "id": "3207a359",
   "metadata": {},
   "outputs": [
    {
     "name": "stdout",
     "output_type": "stream",
     "text": [
      "[1, 2, 4, 5, 7, 10, 13, 23]\n"
     ]
    }
   ],
   "source": [
    "a = [10, 4, 5, 23, 2, 7, 13, 1]\n",
    "a.sort()\n",
    "\n",
    "print(a)"
   ]
  },
  {
   "cell_type": "code",
   "execution_count": 17,
   "id": "5bfd19b2",
   "metadata": {},
   "outputs": [
    {
     "name": "stdout",
     "output_type": "stream",
     "text": [
      "[10, 4, 5, 23, 31, 33, 11, 23, 32]\n",
      "[4, 5, 10, 11, 23, 23, 31, 32, 33]\n"
     ]
    }
   ],
   "source": [
    "a = [10, 4, 5, 23, 31, 33, 11, 23, 32]\n",
    "\n",
    "b = sorted(a)\n",
    "\n",
    "print(a)\n",
    "print(b)"
   ]
  },
  {
   "cell_type": "code",
   "execution_count": 67,
   "id": "0f8b629e",
   "metadata": {},
   "outputs": [
    {
     "name": "stdout",
     "output_type": "stream",
     "text": [
      "[1, 5, 20]\n"
     ]
    }
   ],
   "source": [
    "a = [5, 1, 20]\n",
    "\n",
    "b = sorted(a)\n",
    "\n",
    "print(b)"
   ]
  },
  {
   "cell_type": "code",
   "execution_count": 69,
   "id": "7d065425",
   "metadata": {},
   "outputs": [
    {
     "name": "stdout",
     "output_type": "stream",
     "text": [
      "[1, 5, 20]\n",
      "None\n",
      "[1, 5, 20]\n",
      "[1, 5, 20]\n"
     ]
    }
   ],
   "source": [
    "print(a)\n",
    "print(b.sort())\n",
    "a.sort()\n",
    "print(a)\n",
    "print(b)"
   ]
  },
  {
   "cell_type": "code",
   "execution_count": 66,
   "id": "130178d7",
   "metadata": {},
   "outputs": [
    {
     "name": "stdout",
     "output_type": "stream",
     "text": [
      "[1, 5, 10]\n"
     ]
    }
   ],
   "source": [
    "a = [5, 1, 10]\n",
    "a.sort()\n",
    "print(a)"
   ]
  },
  {
   "cell_type": "code",
   "execution_count": 18,
   "id": "06439acc",
   "metadata": {},
   "outputs": [],
   "source": [
    "## sort와 sorted 번갈아 여러번 써놓고 최종으로 출력되는 값이 무엇이냐하고 퀴즈에 나올 수 있음"
   ]
  },
  {
   "cell_type": "code",
   "execution_count": 19,
   "id": "c40c25c1",
   "metadata": {},
   "outputs": [],
   "source": [
    "## a. tab 누르면 사용할 수 있는 function이 나옴"
   ]
  },
  {
   "cell_type": "markdown",
   "id": "602478ee",
   "metadata": {},
   "source": [
    "### **tuple**\n",
    " - 생성된 후 수정 불가능"
   ]
  },
  {
   "cell_type": "code",
   "execution_count": 44,
   "id": "87ce619c",
   "metadata": {},
   "outputs": [
    {
     "name": "stdout",
     "output_type": "stream",
     "text": [
      "<class 'list'>\n",
      "<class 'tuple'>\n",
      "[100, 2, 3]\n"
     ]
    },
    {
     "ename": "TypeError",
     "evalue": "'tuple' object does not support item assignment",
     "output_type": "error",
     "traceback": [
      "\u001b[1;31m---------------------------------------------------------------------------\u001b[0m",
      "\u001b[1;31mTypeError\u001b[0m                                 Traceback (most recent call last)",
      "\u001b[1;32m~\\AppData\\Local\\Temp/ipykernel_13988/2618853395.py\u001b[0m in \u001b[0;36m<module>\u001b[1;34m\u001b[0m\n\u001b[0;32m      8\u001b[0m \u001b[0mprint\u001b[0m\u001b[1;33m(\u001b[0m\u001b[0ma\u001b[0m\u001b[1;33m)\u001b[0m\u001b[1;33m\u001b[0m\u001b[1;33m\u001b[0m\u001b[0m\n\u001b[0;32m      9\u001b[0m \u001b[1;33m\u001b[0m\u001b[0m\n\u001b[1;32m---> 10\u001b[1;33m \u001b[0mb\u001b[0m\u001b[1;33m[\u001b[0m\u001b[1;36m0\u001b[0m\u001b[1;33m]\u001b[0m \u001b[1;33m=\u001b[0m \u001b[1;36m100\u001b[0m\u001b[1;33m\u001b[0m\u001b[1;33m\u001b[0m\u001b[0m\n\u001b[0m\u001b[0;32m     11\u001b[0m \u001b[0mprint\u001b[0m\u001b[1;33m(\u001b[0m\u001b[0mb\u001b[0m\u001b[1;33m)\u001b[0m\u001b[1;33m\u001b[0m\u001b[1;33m\u001b[0m\u001b[0m\n\u001b[0;32m     12\u001b[0m \u001b[0mprint\u001b[0m\u001b[1;33m(\u001b[0m\u001b[0mb\u001b[0m\u001b[1;33m[\u001b[0m\u001b[1;36m1\u001b[0m\u001b[1;33m]\u001b[0m\u001b[1;33m)\u001b[0m\u001b[1;33m\u001b[0m\u001b[1;33m\u001b[0m\u001b[0m\n",
      "\u001b[1;31mTypeError\u001b[0m: 'tuple' object does not support item assignment"
     ]
    }
   ],
   "source": [
    "a = [1, 2, 3]\n",
    "b = (1, 2, 3)\n",
    "\n",
    "print(type(a))\n",
    "print(type(b))\n",
    "\n",
    "a [0] = 100\n",
    "print(a)\n",
    "\n",
    "b[0] = 100\n",
    "print(b)\n",
    "print(b[1])"
   ]
  },
  {
   "cell_type": "code",
   "execution_count": 46,
   "id": "e0c142d1",
   "metadata": {},
   "outputs": [
    {
     "name": "stdout",
     "output_type": "stream",
     "text": [
      "<class 'list'>\n",
      "<class 'tuple'>\n",
      "[100, 2, 3]\n",
      "(1, 2, 3)\n",
      "2\n",
      "100\n"
     ]
    }
   ],
   "source": [
    "a = [1, 2, 3]\n",
    "b = (1, 2, 3)\n",
    "\n",
    "print(type(a))\n",
    "print(type(b))\n",
    "\n",
    "a [0] = 100\n",
    "print(a)\n",
    "\n",
    "print(b)\n",
    "print(b[1])\n",
    "print(a[0])"
   ]
  },
  {
   "cell_type": "markdown",
   "id": "a56a3add",
   "metadata": {},
   "source": [
    "- 튜플의 값을 차례대로 변수에 대입"
   ]
  },
  {
   "cell_type": "code",
   "execution_count": 23,
   "id": "fa1f0f0d",
   "metadata": {},
   "outputs": [
    {
     "name": "stdout",
     "output_type": "stream",
     "text": [
      "<class 'tuple'>\n",
      "<class 'tuple'>\n"
     ]
    }
   ],
   "source": [
    "a = (100, 200)\n",
    "print(type(a))\n",
    "\n",
    "b = 100, 200\n",
    "print(type(b))"
   ]
  },
  {
   "cell_type": "code",
   "execution_count": 29,
   "id": "5fbca767",
   "metadata": {},
   "outputs": [
    {
     "name": "stdout",
     "output_type": "stream",
     "text": [
      "100\n",
      "200\n",
      "100 200\n"
     ]
    }
   ],
   "source": [
    "a, b = 100, 200\n",
    "print(a)\n",
    "print(b)\n",
    "print(a, b)"
   ]
  }
 ],
 "metadata": {
  "kernelspec": {
   "display_name": "Python 3 (ipykernel)",
   "language": "python",
   "name": "python3"
  },
  "language_info": {
   "codemirror_mode": {
    "name": "ipython",
    "version": 3
   },
   "file_extension": ".py",
   "mimetype": "text/x-python",
   "name": "python",
   "nbconvert_exporter": "python",
   "pygments_lexer": "ipython3",
   "version": "3.9.7"
  }
 },
 "nbformat": 4,
 "nbformat_minor": 5
}
