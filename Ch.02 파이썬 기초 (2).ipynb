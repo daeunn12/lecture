{
 "cells": [
  {
   "cell_type": "markdown",
   "id": "5f9deade",
   "metadata": {},
   "source": [
    "### 6) Set"
   ]
  },
  {
   "cell_type": "markdown",
   "id": "e7b1ccf5",
   "metadata": {},
   "source": [
    "- 생성방법"
   ]
  },
  {
   "cell_type": "code",
   "execution_count": 1,
   "id": "2414a69c",
   "metadata": {},
   "outputs": [
    {
     "name": "stdout",
     "output_type": "stream",
     "text": [
      "{1, 2, 3}\n",
      "<class 'set'>\n"
     ]
    }
   ],
   "source": [
    "a = set([1, 2, 3])\n",
    "print(a)\n",
    "print(type(a))"
   ]
  },
  {
   "cell_type": "code",
   "execution_count": 2,
   "id": "6922119a",
   "metadata": {},
   "outputs": [
    {
     "name": "stdout",
     "output_type": "stream",
     "text": [
      "{1, 2, 3}\n"
     ]
    }
   ],
   "source": [
    "a = set((1, 2, 3))\n",
    "print(a)"
   ]
  },
  {
   "cell_type": "markdown",
   "id": "850bf028",
   "metadata": {},
   "source": [
    "- 중복된 항목을 제거"
   ]
  },
  {
   "cell_type": "code",
   "execution_count": 3,
   "id": "92f19b5b",
   "metadata": {},
   "outputs": [
    {
     "name": "stdout",
     "output_type": "stream",
     "text": [
      "{1, 2, 3, 4}\n"
     ]
    }
   ],
   "source": [
    "a = set([1, 1, 2, 3, 3, 4])\n",
    "print(a)"
   ]
  },
  {
   "cell_type": "markdown",
   "id": "f98585d5",
   "metadata": {},
   "source": [
    "- 순서가 없음"
   ]
  },
  {
   "cell_type": "code",
   "execution_count": 6,
   "id": "e3a76a6d",
   "metadata": {},
   "outputs": [
    {
     "name": "stdout",
     "output_type": "stream",
     "text": [
      "{1, 2, 3, 4, 'a', 'b'}\n"
     ]
    }
   ],
   "source": [
    "a = set([4, 4, 3, 2, 1, 'a', 'b', 'a' ])\n",
    "print(a)"
   ]
  },
  {
   "cell_type": "code",
   "execution_count": 7,
   "id": "eeef39af",
   "metadata": {},
   "outputs": [
    {
     "ename": "TypeError",
     "evalue": "'set' object is not subscriptable",
     "output_type": "error",
     "traceback": [
      "\u001b[1;31m---------------------------------------------------------------------------\u001b[0m",
      "\u001b[1;31mTypeError\u001b[0m                                 Traceback (most recent call last)",
      "\u001b[1;32m~\\AppData\\Local\\Temp/ipykernel_3288/3848010232.py\u001b[0m in \u001b[0;36m<module>\u001b[1;34m\u001b[0m\n\u001b[1;32m----> 1\u001b[1;33m \u001b[0mprint\u001b[0m\u001b[1;33m(\u001b[0m\u001b[0ma\u001b[0m\u001b[1;33m[\u001b[0m\u001b[1;36m0\u001b[0m\u001b[1;33m]\u001b[0m\u001b[1;33m)\u001b[0m\u001b[1;33m\u001b[0m\u001b[1;33m\u001b[0m\u001b[0m\n\u001b[0m",
      "\u001b[1;31mTypeError\u001b[0m: 'set' object is not subscriptable"
     ]
    }
   ],
   "source": [
    "print(a[0])\n",
    "## 순서 자체가 없음\n",
    "## 인덱스 존재하지 않음\n",
    "## 인덱스 사용하려면 형변환을 통해 자료형을 변경해야함"
   ]
  },
  {
   "cell_type": "code",
   "execution_count": 8,
   "id": "4f93d50d",
   "metadata": {},
   "outputs": [
    {
     "name": "stdout",
     "output_type": "stream",
     "text": [
      "[1, 2, 3, 4, 'a', 'b']\n"
     ]
    }
   ],
   "source": [
    "# 해결법\n",
    "b = list(a)\n",
    "print(b)"
   ]
  },
  {
   "cell_type": "code",
   "execution_count": 9,
   "id": "dce7ae6a",
   "metadata": {},
   "outputs": [
    {
     "name": "stdout",
     "output_type": "stream",
     "text": [
      "1\n"
     ]
    }
   ],
   "source": [
    "print(b[0])"
   ]
  },
  {
   "cell_type": "markdown",
   "id": "fcb78f54",
   "metadata": {},
   "source": [
    "- 합집합"
   ]
  },
  {
   "cell_type": "code",
   "execution_count": 10,
   "id": "32406009",
   "metadata": {},
   "outputs": [],
   "source": [
    "a = set([1, 2, 3])\n",
    "b = set([3, 4, 5])"
   ]
  },
  {
   "cell_type": "code",
   "execution_count": 13,
   "id": "692bd90b",
   "metadata": {},
   "outputs": [
    {
     "name": "stdout",
     "output_type": "stream",
     "text": [
      "{1, 2, 3, 4, 5}\n"
     ]
    }
   ],
   "source": [
    "c = a.union(b)\n",
    "print(c)"
   ]
  },
  {
   "cell_type": "markdown",
   "id": "d37162eb",
   "metadata": {},
   "source": [
    "- 교집합"
   ]
  },
  {
   "cell_type": "code",
   "execution_count": 14,
   "id": "ad8356ba",
   "metadata": {},
   "outputs": [],
   "source": [
    "a = set([1, 2, 3])\n",
    "b = set([3, 4, 5])"
   ]
  },
  {
   "cell_type": "code",
   "execution_count": 15,
   "id": "7fbf89cc",
   "metadata": {},
   "outputs": [
    {
     "name": "stdout",
     "output_type": "stream",
     "text": [
      "{3}\n"
     ]
    }
   ],
   "source": [
    "c = a.intersection(b)\n",
    "print(c)"
   ]
  },
  {
   "cell_type": "markdown",
   "id": "a361b873",
   "metadata": {},
   "source": [
    "- 차집합"
   ]
  },
  {
   "cell_type": "code",
   "execution_count": 16,
   "id": "c03dd0f9",
   "metadata": {},
   "outputs": [],
   "source": [
    "a = set([1, 2, 3])\n",
    "b = set([3, 4, 5])"
   ]
  },
  {
   "cell_type": "code",
   "execution_count": 17,
   "id": "5ab54e2c",
   "metadata": {},
   "outputs": [
    {
     "name": "stdout",
     "output_type": "stream",
     "text": [
      "{1, 2}\n"
     ]
    }
   ],
   "source": [
    "c = a.difference(b)\n",
    "print(c)"
   ]
  },
  {
   "cell_type": "markdown",
   "id": "378004ad",
   "metadata": {},
   "source": [
    "# 4. 제어문"
   ]
  },
  {
   "cell_type": "markdown",
   "id": "7287adc7",
   "metadata": {},
   "source": [
    "### 1) 반복문"
   ]
  },
  {
   "cell_type": "markdown",
   "id": "c2179161",
   "metadata": {},
   "source": [
    "(1) for"
   ]
  },
  {
   "cell_type": "markdown",
   "id": "f063f750",
   "metadata": {},
   "source": [
    "for를 이용한 반복문은 아래와 같이 작성함"
   ]
  },
  {
   "cell_type": "markdown",
   "id": "32a90395",
   "metadata": {},
   "source": [
    "for 변수 in 반복 가능한 객체:\n",
    "    반복하여 실행할 내용"
   ]
  },
  {
   "cell_type": "markdown",
   "id": "3e631f3a",
   "metadata": {},
   "source": [
    "- 여기서 반복 가능한 객체는 아래와 같은 것들을 뜻함"
   ]
  },
  {
   "cell_type": "markdown",
   "id": "3bb21cda",
   "metadata": {},
   "source": [
    "1) list    2) range"
   ]
  },
  {
   "cell_type": "markdown",
   "id": "304dedec",
   "metadata": {},
   "source": [
    "- 문제: 1부터 10까지 출력하시오"
   ]
  },
  {
   "cell_type": "markdown",
   "id": "3e06e154",
   "metadata": {},
   "source": [
    "-list를 이용한 해결"
   ]
  },
  {
   "cell_type": "code",
   "execution_count": 18,
   "id": "bcc13d83",
   "metadata": {},
   "outputs": [],
   "source": [
    "a = [1, 2, 3, 4, 5, 6, 7, 8, 9, 10]"
   ]
  },
  {
   "cell_type": "code",
   "execution_count": 19,
   "id": "a658df64",
   "metadata": {},
   "outputs": [
    {
     "name": "stdout",
     "output_type": "stream",
     "text": [
      "1\n",
      "2\n",
      "3\n",
      "4\n",
      "5\n",
      "6\n",
      "7\n",
      "8\n",
      "9\n",
      "10\n"
     ]
    }
   ],
   "source": [
    "for i in a:\n",
    "    print(i)"
   ]
  },
  {
   "cell_type": "markdown",
   "id": "bfcda891",
   "metadata": {},
   "source": [
    "-range를 이용한 해결"
   ]
  },
  {
   "cell_type": "code",
   "execution_count": 23,
   "id": "6131118d",
   "metadata": {},
   "outputs": [
    {
     "name": "stdout",
     "output_type": "stream",
     "text": [
      "0\n",
      "1\n",
      "2\n",
      "3\n",
      "4\n",
      "5\n",
      "6\n",
      "7\n",
      "8\n",
      "9\n",
      "10\n"
     ]
    }
   ],
   "source": [
    "for i in range(11):\n",
    "    print(i)"
   ]
  },
  {
   "cell_type": "markdown",
   "id": "6b31c7f9",
   "metadata": {},
   "source": [
    "- 문제: 1부터 9까지 2씩 증가하면서 출력하시오"
   ]
  },
  {
   "cell_type": "code",
   "execution_count": 24,
   "id": "54316844",
   "metadata": {},
   "outputs": [
    {
     "name": "stdout",
     "output_type": "stream",
     "text": [
      "1\n",
      "3\n",
      "5\n",
      "7\n",
      "9\n"
     ]
    }
   ],
   "source": [
    "for i in range(1, 10, 2):\n",
    "    print(i)"
   ]
  },
  {
   "cell_type": "markdown",
   "id": "2bb14960",
   "metadata": {},
   "source": [
    "- 문제: 9부터 1까지 2씩 감소하면서 출력하시오"
   ]
  },
  {
   "cell_type": "code",
   "execution_count": 25,
   "id": "160907c7",
   "metadata": {},
   "outputs": [
    {
     "name": "stdout",
     "output_type": "stream",
     "text": [
      "9\n",
      "7\n",
      "5\n",
      "3\n",
      "1\n"
     ]
    }
   ],
   "source": [
    "for i in range(9, 0, -2):\n",
    "    print(i)"
   ]
  },
  {
   "cell_type": "markdown",
   "id": "3ab8f507",
   "metadata": {},
   "source": [
    "- 문제: 1부터 10까지의 자연수의 합을 구하시오"
   ]
  },
  {
   "cell_type": "code",
   "execution_count": 26,
   "id": "37caed96",
   "metadata": {},
   "outputs": [
    {
     "name": "stdout",
     "output_type": "stream",
     "text": [
      "1\n",
      "2\n",
      "3\n",
      "4\n",
      "5\n",
      "6\n",
      "7\n",
      "8\n",
      "9\n",
      "10\n"
     ]
    }
   ],
   "source": [
    "for i in range(1, 11, 1):\n",
    "    print(i)"
   ]
  },
  {
   "cell_type": "code",
   "execution_count": 28,
   "id": "107ea582",
   "metadata": {},
   "outputs": [
    {
     "ename": "NameError",
     "evalue": "name 'result' is not defined",
     "output_type": "error",
     "traceback": [
      "\u001b[1;31m---------------------------------------------------------------------------\u001b[0m",
      "\u001b[1;31mNameError\u001b[0m                                 Traceback (most recent call last)",
      "\u001b[1;32m~\\AppData\\Local\\Temp/ipykernel_3288/2552873369.py\u001b[0m in \u001b[0;36m<module>\u001b[1;34m\u001b[0m\n\u001b[0;32m      1\u001b[0m \u001b[1;32mfor\u001b[0m \u001b[0mi\u001b[0m \u001b[1;32min\u001b[0m \u001b[0mrange\u001b[0m\u001b[1;33m(\u001b[0m\u001b[1;36m1\u001b[0m\u001b[1;33m,\u001b[0m \u001b[1;36m11\u001b[0m\u001b[1;33m,\u001b[0m \u001b[1;36m1\u001b[0m\u001b[1;33m)\u001b[0m\u001b[1;33m:\u001b[0m\u001b[1;33m\u001b[0m\u001b[1;33m\u001b[0m\u001b[0m\n\u001b[1;32m----> 2\u001b[1;33m     \u001b[0mresult\u001b[0m\u001b[1;33m=\u001b[0m\u001b[0mresult\u001b[0m\u001b[1;33m+\u001b[0m\u001b[0mi\u001b[0m\u001b[1;33m\u001b[0m\u001b[1;33m\u001b[0m\u001b[0m\n\u001b[0m\u001b[0;32m      3\u001b[0m \u001b[0mprint\u001b[0m\u001b[1;33m(\u001b[0m\u001b[0mresult\u001b[0m\u001b[1;33m)\u001b[0m\u001b[1;33m\u001b[0m\u001b[1;33m\u001b[0m\u001b[0m\n",
      "\u001b[1;31mNameError\u001b[0m: name 'result' is not defined"
     ]
    }
   ],
   "source": [
    "for i in range(1, 11, 1):\n",
    "    result=result+i\n",
    "print(result)\n",
    "## result의 초기값을 지정해주어야함"
   ]
  },
  {
   "cell_type": "code",
   "execution_count": 30,
   "id": "f2cf2b85",
   "metadata": {},
   "outputs": [
    {
     "name": "stdout",
     "output_type": "stream",
     "text": [
      "55\n"
     ]
    }
   ],
   "source": [
    "result = 0\n",
    "for i in range(1, 11, 1):\n",
    "    result = result + i\n",
    "print(result)"
   ]
  },
  {
   "cell_type": "markdown",
   "id": "97da1f95",
   "metadata": {},
   "source": [
    "- 문제: 구구단을 출력하시오"
   ]
  },
  {
   "cell_type": "code",
   "execution_count": 31,
   "id": "8387d858",
   "metadata": {},
   "outputs": [
    {
     "name": "stdout",
     "output_type": "stream",
     "text": [
      "2\n",
      "3\n",
      "4\n",
      "5\n",
      "6\n",
      "7\n",
      "8\n",
      "9\n"
     ]
    }
   ],
   "source": [
    "for i in range(2, 10, 1):\n",
    "    print(i)"
   ]
  },
  {
   "cell_type": "code",
   "execution_count": 32,
   "id": "2f81b441",
   "metadata": {},
   "outputs": [
    {
     "name": "stdout",
     "output_type": "stream",
     "text": [
      "1\n",
      "4\n",
      "9\n",
      "16\n",
      "25\n",
      "36\n",
      "49\n",
      "64\n",
      "81\n",
      "1\n",
      "4\n",
      "9\n",
      "16\n",
      "25\n",
      "36\n",
      "49\n",
      "64\n",
      "81\n",
      "1\n",
      "4\n",
      "9\n",
      "16\n",
      "25\n",
      "36\n",
      "49\n",
      "64\n",
      "81\n",
      "1\n",
      "4\n",
      "9\n",
      "16\n",
      "25\n",
      "36\n",
      "49\n",
      "64\n",
      "81\n",
      "1\n",
      "4\n",
      "9\n",
      "16\n",
      "25\n",
      "36\n",
      "49\n",
      "64\n",
      "81\n",
      "1\n",
      "4\n",
      "9\n",
      "16\n",
      "25\n",
      "36\n",
      "49\n",
      "64\n",
      "81\n",
      "1\n",
      "4\n",
      "9\n",
      "16\n",
      "25\n",
      "36\n",
      "49\n",
      "64\n",
      "81\n",
      "1\n",
      "4\n",
      "9\n",
      "16\n",
      "25\n",
      "36\n",
      "49\n",
      "64\n",
      "81\n"
     ]
    }
   ],
   "source": [
    "for i in range(2, 10, 1):\n",
    "    for i in range(1, 10, 1):\n",
    "        print(i * i)\n",
    "## 결과가 제곱값으로 나옴\n",
    "## 변수명이 똑같아서 앞과 뒤의 값이 똑같이 출력되어 제곱값으로 나옴"
   ]
  },
  {
   "cell_type": "code",
   "execution_count": 33,
   "id": "75422336",
   "metadata": {},
   "outputs": [
    {
     "name": "stdout",
     "output_type": "stream",
     "text": [
      "2\n",
      "4\n",
      "6\n",
      "8\n",
      "10\n",
      "12\n",
      "14\n",
      "16\n",
      "18\n",
      "3\n",
      "6\n",
      "9\n",
      "12\n",
      "15\n",
      "18\n",
      "21\n",
      "24\n",
      "27\n",
      "4\n",
      "8\n",
      "12\n",
      "16\n",
      "20\n",
      "24\n",
      "28\n",
      "32\n",
      "36\n",
      "5\n",
      "10\n",
      "15\n",
      "20\n",
      "25\n",
      "30\n",
      "35\n",
      "40\n",
      "45\n",
      "6\n",
      "12\n",
      "18\n",
      "24\n",
      "30\n",
      "36\n",
      "42\n",
      "48\n",
      "54\n",
      "7\n",
      "14\n",
      "21\n",
      "28\n",
      "35\n",
      "42\n",
      "49\n",
      "56\n",
      "63\n",
      "8\n",
      "16\n",
      "24\n",
      "32\n",
      "40\n",
      "48\n",
      "56\n",
      "64\n",
      "72\n",
      "9\n",
      "18\n",
      "27\n",
      "36\n",
      "45\n",
      "54\n",
      "63\n",
      "72\n",
      "81\n"
     ]
    }
   ],
   "source": [
    "for i in range(2, 10, 1):\n",
    "    for j in range(1, 10, 1):\n",
    "        print(i * j)\n",
    "## 두번째 i를 j로 바꿔서 서로 독립적으로 돌아가게끔 만들어줌"
   ]
  },
  {
   "cell_type": "code",
   "execution_count": 35,
   "id": "a18f7b4a",
   "metadata": {},
   "outputs": [
    {
     "name": "stdout",
     "output_type": "stream",
     "text": [
      "2곱하기 1 은/는 2 입니다.\n",
      "2곱하기 2 은/는 4 입니다.\n",
      "2곱하기 3 은/는 6 입니다.\n",
      "2곱하기 4 은/는 8 입니다.\n",
      "2곱하기 5 은/는 10 입니다.\n",
      "2곱하기 6 은/는 12 입니다.\n",
      "2곱하기 7 은/는 14 입니다.\n",
      "2곱하기 8 은/는 16 입니다.\n",
      "2곱하기 9 은/는 18 입니다.\n",
      "3곱하기 1 은/는 3 입니다.\n",
      "3곱하기 2 은/는 6 입니다.\n",
      "3곱하기 3 은/는 9 입니다.\n",
      "3곱하기 4 은/는 12 입니다.\n",
      "3곱하기 5 은/는 15 입니다.\n",
      "3곱하기 6 은/는 18 입니다.\n",
      "3곱하기 7 은/는 21 입니다.\n",
      "3곱하기 8 은/는 24 입니다.\n",
      "3곱하기 9 은/는 27 입니다.\n",
      "4곱하기 1 은/는 4 입니다.\n",
      "4곱하기 2 은/는 8 입니다.\n",
      "4곱하기 3 은/는 12 입니다.\n",
      "4곱하기 4 은/는 16 입니다.\n",
      "4곱하기 5 은/는 20 입니다.\n",
      "4곱하기 6 은/는 24 입니다.\n",
      "4곱하기 7 은/는 28 입니다.\n",
      "4곱하기 8 은/는 32 입니다.\n",
      "4곱하기 9 은/는 36 입니다.\n",
      "5곱하기 1 은/는 5 입니다.\n",
      "5곱하기 2 은/는 10 입니다.\n",
      "5곱하기 3 은/는 15 입니다.\n",
      "5곱하기 4 은/는 20 입니다.\n",
      "5곱하기 5 은/는 25 입니다.\n",
      "5곱하기 6 은/는 30 입니다.\n",
      "5곱하기 7 은/는 35 입니다.\n",
      "5곱하기 8 은/는 40 입니다.\n",
      "5곱하기 9 은/는 45 입니다.\n",
      "6곱하기 1 은/는 6 입니다.\n",
      "6곱하기 2 은/는 12 입니다.\n",
      "6곱하기 3 은/는 18 입니다.\n",
      "6곱하기 4 은/는 24 입니다.\n",
      "6곱하기 5 은/는 30 입니다.\n",
      "6곱하기 6 은/는 36 입니다.\n",
      "6곱하기 7 은/는 42 입니다.\n",
      "6곱하기 8 은/는 48 입니다.\n",
      "6곱하기 9 은/는 54 입니다.\n",
      "7곱하기 1 은/는 7 입니다.\n",
      "7곱하기 2 은/는 14 입니다.\n",
      "7곱하기 3 은/는 21 입니다.\n",
      "7곱하기 4 은/는 28 입니다.\n",
      "7곱하기 5 은/는 35 입니다.\n",
      "7곱하기 6 은/는 42 입니다.\n",
      "7곱하기 7 은/는 49 입니다.\n",
      "7곱하기 8 은/는 56 입니다.\n",
      "7곱하기 9 은/는 63 입니다.\n",
      "8곱하기 1 은/는 8 입니다.\n",
      "8곱하기 2 은/는 16 입니다.\n",
      "8곱하기 3 은/는 24 입니다.\n",
      "8곱하기 4 은/는 32 입니다.\n",
      "8곱하기 5 은/는 40 입니다.\n",
      "8곱하기 6 은/는 48 입니다.\n",
      "8곱하기 7 은/는 56 입니다.\n",
      "8곱하기 8 은/는 64 입니다.\n",
      "8곱하기 9 은/는 72 입니다.\n",
      "9곱하기 1 은/는 9 입니다.\n",
      "9곱하기 2 은/는 18 입니다.\n",
      "9곱하기 3 은/는 27 입니다.\n",
      "9곱하기 4 은/는 36 입니다.\n",
      "9곱하기 5 은/는 45 입니다.\n",
      "9곱하기 6 은/는 54 입니다.\n",
      "9곱하기 7 은/는 63 입니다.\n",
      "9곱하기 8 은/는 72 입니다.\n",
      "9곱하기 9 은/는 81 입니다.\n"
     ]
    }
   ],
   "source": [
    "# format을 사용하여 구구단 만들기\n",
    "for i in range(2, 10, 1):\n",
    "    for j in range(1, 10, 1):\n",
    "        print('{}곱하기 {} 은/는 {} 입니다.'.format(i, j, i*j))"
   ]
  },
  {
   "cell_type": "markdown",
   "id": "292929b8",
   "metadata": {},
   "source": [
    "(2) while"
   ]
  },
  {
   "cell_type": "markdown",
   "id": "cdd99218",
   "metadata": {},
   "source": [
    "while을 이용한 반복문은 아래와 같이 작성함"
   ]
  },
  {
   "cell_type": "markdown",
   "id": "760c4f1c",
   "metadata": {},
   "source": [
    "while 조건:\n",
    "    반복하여 실행할 내용"
   ]
  },
  {
   "cell_type": "markdown",
   "id": "7686468b",
   "metadata": {},
   "source": [
    "- 문제: 1부터 10까지 출력하시오"
   ]
  },
  {
   "cell_type": "code",
   "execution_count": 36,
   "id": "9e703cdc",
   "metadata": {},
   "outputs": [
    {
     "name": "stdout",
     "output_type": "stream",
     "text": [
      "1\n",
      "2\n",
      "3\n",
      "4\n",
      "5\n",
      "6\n",
      "7\n",
      "8\n",
      "9\n",
      "10\n"
     ]
    }
   ],
   "source": [
    "i = 1\n",
    "while i < 11:\n",
    "    print(i)\n",
    "    i = i + 1\n",
    "## i<11 -> i가 11보다 작으면 아래의 실행문을 반복하라 라는 뜻임"
   ]
  },
  {
   "cell_type": "markdown",
   "id": "49f6fe13",
   "metadata": {},
   "source": [
    "- 문제: 1부터 9까지 2씩 증가하면서 출력하시오"
   ]
  },
  {
   "cell_type": "code",
   "execution_count": 38,
   "id": "2a22b29a",
   "metadata": {},
   "outputs": [
    {
     "name": "stdout",
     "output_type": "stream",
     "text": [
      "1\n",
      "3\n",
      "5\n",
      "7\n",
      "9\n"
     ]
    }
   ],
   "source": [
    "i = 1\n",
    "while i < 10:\n",
    "    print(i)\n",
    "    i += 2"
   ]
  },
  {
   "cell_type": "markdown",
   "id": "e1ea685a",
   "metadata": {},
   "source": [
    "- 문제: 9부터 1까지 2씩 감소하면서 출력하시오"
   ]
  },
  {
   "cell_type": "code",
   "execution_count": 39,
   "id": "6fae0f44",
   "metadata": {},
   "outputs": [
    {
     "name": "stdout",
     "output_type": "stream",
     "text": [
      "9\n",
      "7\n",
      "5\n",
      "3\n",
      "1\n"
     ]
    }
   ],
   "source": [
    "i = 9\n",
    "while i > 0:\n",
    "    print(i)\n",
    "    i -= 2"
   ]
  },
  {
   "cell_type": "markdown",
   "id": "3954a6d0",
   "metadata": {},
   "source": [
    "- 문제: 1부터 10까지의 자연수의 합을 구하시오"
   ]
  },
  {
   "cell_type": "code",
   "execution_count": 44,
   "id": "b6bbe9b8",
   "metadata": {},
   "outputs": [
    {
     "name": "stdout",
     "output_type": "stream",
     "text": [
      "55\n"
     ]
    }
   ],
   "source": [
    "i = 1\n",
    "result = 0\n",
    "while i < 11:\n",
    "    result += i\n",
    "    i += 1\n",
    "print(result)"
   ]
  },
  {
   "cell_type": "markdown",
   "id": "651301e4",
   "metadata": {},
   "source": [
    "- 문제: 구구단을 출력하시오"
   ]
  },
  {
   "cell_type": "code",
   "execution_count": 45,
   "id": "8c836567",
   "metadata": {},
   "outputs": [
    {
     "name": "stdout",
     "output_type": "stream",
     "text": [
      "2\n",
      "3\n",
      "4\n",
      "5\n",
      "6\n",
      "7\n",
      "8\n",
      "9\n"
     ]
    }
   ],
   "source": [
    "i = 2\n",
    "while i < 10:\n",
    "    print(i)\n",
    "    i += 1"
   ]
  },
  {
   "cell_type": "code",
   "execution_count": 46,
   "id": "6b5f5ce9",
   "metadata": {},
   "outputs": [
    {
     "name": "stdout",
     "output_type": "stream",
     "text": [
      "3\n",
      "6\n",
      "9\n",
      "12\n",
      "15\n",
      "18\n",
      "21\n",
      "24\n",
      "27\n",
      "4\n",
      "8\n",
      "12\n",
      "16\n",
      "20\n",
      "24\n",
      "28\n",
      "32\n",
      "36\n",
      "5\n",
      "10\n",
      "15\n",
      "20\n",
      "25\n",
      "30\n",
      "35\n",
      "40\n",
      "45\n",
      "6\n",
      "12\n",
      "18\n",
      "24\n",
      "30\n",
      "36\n",
      "42\n",
      "48\n",
      "54\n",
      "7\n",
      "14\n",
      "21\n",
      "28\n",
      "35\n",
      "42\n",
      "49\n",
      "56\n",
      "63\n",
      "8\n",
      "16\n",
      "24\n",
      "32\n",
      "40\n",
      "48\n",
      "56\n",
      "64\n",
      "72\n",
      "9\n",
      "18\n",
      "27\n",
      "36\n",
      "45\n",
      "54\n",
      "63\n",
      "72\n",
      "81\n",
      "10\n",
      "20\n",
      "30\n",
      "40\n",
      "50\n",
      "60\n",
      "70\n",
      "80\n",
      "90\n"
     ]
    }
   ],
   "source": [
    "i = 2\n",
    "while i < 10:\n",
    "    i += 1\n",
    "    j =1\n",
    "    while j < 10:\n",
    "        print(i*j)\n",
    "        j+=1\n",
    "## 2단부터 시작해야되는데 3단부터 시작함\n",
    "## i의 2가 print(i*j)로 넘어가야하는데 i+=1로 바로 넘어갔기 때문"
   ]
  },
  {
   "cell_type": "code",
   "execution_count": 49,
   "id": "fb6925d0",
   "metadata": {},
   "outputs": [
    {
     "name": "stdout",
     "output_type": "stream",
     "text": [
      "2\n",
      "4\n",
      "6\n",
      "8\n",
      "10\n",
      "12\n",
      "14\n",
      "16\n",
      "18\n",
      "3\n",
      "6\n",
      "9\n",
      "12\n",
      "15\n",
      "18\n",
      "21\n",
      "24\n",
      "27\n",
      "4\n",
      "8\n",
      "12\n",
      "16\n",
      "20\n",
      "24\n",
      "28\n",
      "32\n",
      "36\n",
      "5\n",
      "10\n",
      "15\n",
      "20\n",
      "25\n",
      "30\n",
      "35\n",
      "40\n",
      "45\n",
      "6\n",
      "12\n",
      "18\n",
      "24\n",
      "30\n",
      "36\n",
      "42\n",
      "48\n",
      "54\n",
      "7\n",
      "14\n",
      "21\n",
      "28\n",
      "35\n",
      "42\n",
      "49\n",
      "56\n",
      "63\n",
      "8\n",
      "16\n",
      "24\n",
      "32\n",
      "40\n",
      "48\n",
      "56\n",
      "64\n",
      "72\n",
      "9\n",
      "18\n",
      "27\n",
      "36\n",
      "45\n",
      "54\n",
      "63\n",
      "72\n",
      "81\n"
     ]
    }
   ],
   "source": [
    "i = 2\n",
    "while i < 10:\n",
    "    j = 1\n",
    "    while j < 10:\n",
    "        print(i*j)\n",
    "        j += 1\n",
    "    i += 1"
   ]
  },
  {
   "cell_type": "code",
   "execution_count": 50,
   "id": "bd886f2b",
   "metadata": {},
   "outputs": [
    {
     "name": "stdout",
     "output_type": "stream",
     "text": [
      "2 곱하기 1 은/는 2 입니다.\n",
      "2 곱하기 2 은/는 4 입니다.\n",
      "2 곱하기 3 은/는 6 입니다.\n",
      "2 곱하기 4 은/는 8 입니다.\n",
      "2 곱하기 5 은/는 10 입니다.\n",
      "2 곱하기 6 은/는 12 입니다.\n",
      "2 곱하기 7 은/는 14 입니다.\n",
      "2 곱하기 8 은/는 16 입니다.\n",
      "2 곱하기 9 은/는 18 입니다.\n",
      "3 곱하기 1 은/는 3 입니다.\n",
      "3 곱하기 2 은/는 6 입니다.\n",
      "3 곱하기 3 은/는 9 입니다.\n",
      "3 곱하기 4 은/는 12 입니다.\n",
      "3 곱하기 5 은/는 15 입니다.\n",
      "3 곱하기 6 은/는 18 입니다.\n",
      "3 곱하기 7 은/는 21 입니다.\n",
      "3 곱하기 8 은/는 24 입니다.\n",
      "3 곱하기 9 은/는 27 입니다.\n",
      "4 곱하기 1 은/는 4 입니다.\n",
      "4 곱하기 2 은/는 8 입니다.\n",
      "4 곱하기 3 은/는 12 입니다.\n",
      "4 곱하기 4 은/는 16 입니다.\n",
      "4 곱하기 5 은/는 20 입니다.\n",
      "4 곱하기 6 은/는 24 입니다.\n",
      "4 곱하기 7 은/는 28 입니다.\n",
      "4 곱하기 8 은/는 32 입니다.\n",
      "4 곱하기 9 은/는 36 입니다.\n",
      "5 곱하기 1 은/는 5 입니다.\n",
      "5 곱하기 2 은/는 10 입니다.\n",
      "5 곱하기 3 은/는 15 입니다.\n",
      "5 곱하기 4 은/는 20 입니다.\n",
      "5 곱하기 5 은/는 25 입니다.\n",
      "5 곱하기 6 은/는 30 입니다.\n",
      "5 곱하기 7 은/는 35 입니다.\n",
      "5 곱하기 8 은/는 40 입니다.\n",
      "5 곱하기 9 은/는 45 입니다.\n",
      "6 곱하기 1 은/는 6 입니다.\n",
      "6 곱하기 2 은/는 12 입니다.\n",
      "6 곱하기 3 은/는 18 입니다.\n",
      "6 곱하기 4 은/는 24 입니다.\n",
      "6 곱하기 5 은/는 30 입니다.\n",
      "6 곱하기 6 은/는 36 입니다.\n",
      "6 곱하기 7 은/는 42 입니다.\n",
      "6 곱하기 8 은/는 48 입니다.\n",
      "6 곱하기 9 은/는 54 입니다.\n",
      "7 곱하기 1 은/는 7 입니다.\n",
      "7 곱하기 2 은/는 14 입니다.\n",
      "7 곱하기 3 은/는 21 입니다.\n",
      "7 곱하기 4 은/는 28 입니다.\n",
      "7 곱하기 5 은/는 35 입니다.\n",
      "7 곱하기 6 은/는 42 입니다.\n",
      "7 곱하기 7 은/는 49 입니다.\n",
      "7 곱하기 8 은/는 56 입니다.\n",
      "7 곱하기 9 은/는 63 입니다.\n",
      "8 곱하기 1 은/는 8 입니다.\n",
      "8 곱하기 2 은/는 16 입니다.\n",
      "8 곱하기 3 은/는 24 입니다.\n",
      "8 곱하기 4 은/는 32 입니다.\n",
      "8 곱하기 5 은/는 40 입니다.\n",
      "8 곱하기 6 은/는 48 입니다.\n",
      "8 곱하기 7 은/는 56 입니다.\n",
      "8 곱하기 8 은/는 64 입니다.\n",
      "8 곱하기 9 은/는 72 입니다.\n",
      "9 곱하기 1 은/는 9 입니다.\n",
      "9 곱하기 2 은/는 18 입니다.\n",
      "9 곱하기 3 은/는 27 입니다.\n",
      "9 곱하기 4 은/는 36 입니다.\n",
      "9 곱하기 5 은/는 45 입니다.\n",
      "9 곱하기 6 은/는 54 입니다.\n",
      "9 곱하기 7 은/는 63 입니다.\n",
      "9 곱하기 8 은/는 72 입니다.\n",
      "9 곱하기 9 은/는 81 입니다.\n"
     ]
    }
   ],
   "source": [
    "## format을 사용하여 구구단 만들기\n",
    "i = 2\n",
    "while i < 10:\n",
    "    j = 1\n",
    "    while j < 10:\n",
    "        print('{} 곱하기 {} 은/는 {} 입니다.'.format(i, j, i*j))\n",
    "        j += 1\n",
    "    i += 1"
   ]
  },
  {
   "cell_type": "markdown",
   "id": "89b30c30",
   "metadata": {},
   "source": [
    "### 2) 조건문"
   ]
  },
  {
   "cell_type": "markdown",
   "id": "d240f0fb",
   "metadata": {},
   "source": [
    "(1) if"
   ]
  },
  {
   "cell_type": "markdown",
   "id": "00e7a809",
   "metadata": {},
   "source": [
    "if문 작성법"
   ]
  },
  {
   "cell_type": "markdown",
   "id": "5f926903",
   "metadata": {},
   "source": [
    "if 조건1:\n",
    "    조건1이 참일 때의 실행문\n",
    "elif 조건2:\n",
    "    조건2가 참일 때의 실행문\n",
    "else:\n",
    "    실행문"
   ]
  },
  {
   "cell_type": "markdown",
   "id": "3b3c731a",
   "metadata": {},
   "source": [
    "- 문제: x가 5보다 크면 True를 출력하시오"
   ]
  },
  {
   "cell_type": "code",
   "execution_count": 51,
   "id": "2e40d5e7",
   "metadata": {},
   "outputs": [],
   "source": [
    "x=6"
   ]
  },
  {
   "cell_type": "code",
   "execution_count": 52,
   "id": "233a6963",
   "metadata": {},
   "outputs": [
    {
     "name": "stdout",
     "output_type": "stream",
     "text": [
      "True\n"
     ]
    }
   ],
   "source": [
    "if x > 5:\n",
    "    print('True')"
   ]
  },
  {
   "cell_type": "markdown",
   "id": "e989a384",
   "metadata": {},
   "source": [
    "- 문제: x가 5보다 크면 True 아니면 False를 출력하시오"
   ]
  },
  {
   "cell_type": "code",
   "execution_count": 53,
   "id": "016d9cc3",
   "metadata": {},
   "outputs": [],
   "source": [
    "x = 4"
   ]
  },
  {
   "cell_type": "code",
   "execution_count": 54,
   "id": "35c48d8c",
   "metadata": {},
   "outputs": [
    {
     "name": "stdout",
     "output_type": "stream",
     "text": [
      "False\n"
     ]
    }
   ],
   "source": [
    "if x > 5:\n",
    "    print('True')\n",
    "else:\n",
    "    print('False')"
   ]
  },
  {
   "cell_type": "markdown",
   "id": "040b777d",
   "metadata": {},
   "source": [
    "- 문제: x가 5보다 작으면 '5 미만', 5이면 '5', 나머지는 '5 이상'이라고 출력하시오"
   ]
  },
  {
   "cell_type": "code",
   "execution_count": 55,
   "id": "2cd63a53",
   "metadata": {},
   "outputs": [],
   "source": [
    "x = 4"
   ]
  },
  {
   "cell_type": "code",
   "execution_count": 57,
   "id": "2c56b6e8",
   "metadata": {},
   "outputs": [
    {
     "name": "stdout",
     "output_type": "stream",
     "text": [
      "5 미만\n"
     ]
    }
   ],
   "source": [
    "if x <  5:\n",
    "    print('5 미만')\n",
    "elif x == 5:\n",
    "    print('5')\n",
    "else:\n",
    "    print('5 이상')"
   ]
  },
  {
   "cell_type": "markdown",
   "id": "1b72a0a6",
   "metadata": {},
   "source": [
    "- 문제: x가 5보다 작으면 무시하고, 5이면 '5', 나머지는 '5 이상'이라고 출력하시오"
   ]
  },
  {
   "cell_type": "code",
   "execution_count": 58,
   "id": "f671fc44",
   "metadata": {},
   "outputs": [],
   "source": [
    "x = 4"
   ]
  },
  {
   "cell_type": "code",
   "execution_count": 59,
   "id": "644decd7",
   "metadata": {},
   "outputs": [],
   "source": [
    "if x < 5:\n",
    "    pass\n",
    "elif x == 5:\n",
    "    print('5')\n",
    "else:\n",
    "    print('5 이상')"
   ]
  },
  {
   "cell_type": "markdown",
   "id": "d5825148",
   "metadata": {},
   "source": [
    "- 문제: 점수(x)가 90점 이상이면 'A', 80점 이상이면 'B', 70점 이상이면 'C', 60점 이상이면 'D', 나머지는 'F'로 출력하시오"
   ]
  },
  {
   "cell_type": "code",
   "execution_count": 62,
   "id": "35a28856",
   "metadata": {},
   "outputs": [],
   "source": [
    "x = 95"
   ]
  },
  {
   "cell_type": "code",
   "execution_count": 63,
   "id": "794ff7d1",
   "metadata": {},
   "outputs": [
    {
     "name": "stdout",
     "output_type": "stream",
     "text": [
      "D\n"
     ]
    }
   ],
   "source": [
    "if x >= 60:\n",
    "    print('D')\n",
    "elif x >= 70:\n",
    "    print('C')\n",
    "elif x >= 80:\n",
    "    print('B')\n",
    "elif x >= 90:\n",
    "    print('A')\n",
    "else:\n",
    "    print('F')\n",
    "## A 값이 출력되어야하는데 D가 출력됨\n",
    "## 첫번째 문장이 60이상이기때문에 95가 이를 만족해서 여기서 끝나버림"
   ]
  },
  {
   "cell_type": "code",
   "execution_count": 64,
   "id": "37f16513",
   "metadata": {},
   "outputs": [
    {
     "name": "stdout",
     "output_type": "stream",
     "text": [
      "A\n"
     ]
    }
   ],
   "source": [
    "if x >= 90:\n",
    "    print('A')\n",
    "elif x >= 80:\n",
    "    print('B')\n",
    "elif x >= 70:\n",
    "    print('C')\n",
    "elif x >= 60:\n",
    "    print('D')\n",
    "else:\n",
    "    print('F')"
   ]
  },
  {
   "cell_type": "markdown",
   "id": "1610f742",
   "metadata": {},
   "source": [
    "- 문제: A리스트에는 1반 학생들의 수학 점수가 저장되어 있다. 점수가 90점 이상이면 'A', 80점 이상이면 'B', 70점 이상이면 'C', 60점 이상이면 'D', 나머지는 'F'로 출력하시오"
   ]
  },
  {
   "cell_type": "code",
   "execution_count": 66,
   "id": "7c9fa694",
   "metadata": {},
   "outputs": [],
   "source": [
    "A = [80, 97, 70, 55, 63]"
   ]
  },
  {
   "cell_type": "code",
   "execution_count": 68,
   "id": "f5a85705",
   "metadata": {},
   "outputs": [
    {
     "name": "stdout",
     "output_type": "stream",
     "text": [
      "80\n",
      "97\n",
      "70\n",
      "55\n",
      "63\n"
     ]
    }
   ],
   "source": [
    "for i in A:\n",
    "    print(i)"
   ]
  },
  {
   "cell_type": "code",
   "execution_count": 69,
   "id": "9652dcdf",
   "metadata": {},
   "outputs": [
    {
     "name": "stdout",
     "output_type": "stream",
     "text": [
      "80 B\n",
      "97 A\n",
      "70 C\n",
      "55 F\n",
      "63 D\n"
     ]
    }
   ],
   "source": [
    "for i in A:\n",
    "    if i >= 90:\n",
    "        print(i, 'A')\n",
    "    elif i >= 80:\n",
    "        print(i, 'B')\n",
    "    elif i >= 70:\n",
    "        print(i, 'C')\n",
    "    elif i >= 60:\n",
    "        print(i, 'D')\n",
    "    else:\n",
    "        print(i, 'F')"
   ]
  },
  {
   "cell_type": "markdown",
   "id": "e18d70a1",
   "metadata": {},
   "source": [
    "# 5. List Comprehension"
   ]
  },
  {
   "cell_type": "markdown",
   "id": "a51bf42b",
   "metadata": {},
   "source": [
    "- 변수 a에 1부터 10까지 삽입하시오"
   ]
  },
  {
   "cell_type": "code",
   "execution_count": 71,
   "id": "fc8cf3e9",
   "metadata": {},
   "outputs": [
    {
     "name": "stdout",
     "output_type": "stream",
     "text": [
      "[1, 2, 3, 4, 5, 6, 7, 8, 9, 10]\n"
     ]
    }
   ],
   "source": [
    "a = []\n",
    "for i in range(1, 11, 1):\n",
    "    a.append(i)\n",
    "print(a)"
   ]
  },
  {
   "cell_type": "code",
   "execution_count": 72,
   "id": "28079f80",
   "metadata": {},
   "outputs": [
    {
     "name": "stdout",
     "output_type": "stream",
     "text": [
      "[1, 2, 3, 4, 5, 6, 7, 8, 9, 10]\n"
     ]
    }
   ],
   "source": [
    "a = [i for i in range(1, 11, 1)]\n",
    "print(a)"
   ]
  },
  {
   "cell_type": "markdown",
   "id": "e4b48ae9",
   "metadata": {},
   "source": [
    "- 변수 a에 1부터 10까지의 제곱의 값을 삽입하시오"
   ]
  },
  {
   "cell_type": "code",
   "execution_count": 73,
   "id": "d2629929",
   "metadata": {},
   "outputs": [
    {
     "name": "stdout",
     "output_type": "stream",
     "text": [
      "[1, 4, 9, 16, 25, 36, 49, 64, 81, 100]\n"
     ]
    }
   ],
   "source": [
    "a= []\n",
    "for i in range(1, 11, 1):\n",
    "    a.append(i**2)\n",
    "print(a)"
   ]
  },
  {
   "cell_type": "code",
   "execution_count": 76,
   "id": "6c118da9",
   "metadata": {},
   "outputs": [
    {
     "name": "stdout",
     "output_type": "stream",
     "text": [
      "[1, 4, 9, 16, 25, 36, 49, 64, 81, 100]\n"
     ]
    }
   ],
   "source": [
    "a=[i**2 for i in range(1, 11, 1)]\n",
    "print(a)"
   ]
  },
  {
   "cell_type": "markdown",
   "id": "6334e2bc",
   "metadata": {},
   "source": [
    "- 변수 a에는 A반의 수학점수가 저장되어있다. 이 중 80점 이상의 점수만 걸러내어라"
   ]
  },
  {
   "cell_type": "code",
   "execution_count": 78,
   "id": "114971b2",
   "metadata": {},
   "outputs": [],
   "source": [
    "a = [90, 39, 48, 70, 82, 100]"
   ]
  },
  {
   "cell_type": "code",
   "execution_count": 79,
   "id": "9a1766c1",
   "metadata": {},
   "outputs": [
    {
     "name": "stdout",
     "output_type": "stream",
     "text": [
      "[90, 39, 48, 70, 82, 100]\n"
     ]
    }
   ],
   "source": [
    "result = [i for i in a]\n",
    "print(result)"
   ]
  },
  {
   "cell_type": "code",
   "execution_count": 81,
   "id": "88a0b646",
   "metadata": {},
   "outputs": [
    {
     "name": "stdout",
     "output_type": "stream",
     "text": [
      "[90, 82, 100]\n"
     ]
    }
   ],
   "source": [
    "result=[i for i in a if i >= 80]\n",
    "print(result)"
   ]
  },
  {
   "cell_type": "markdown",
   "id": "31a31641",
   "metadata": {},
   "source": [
    "# 6. 함수"
   ]
  },
  {
   "cell_type": "markdown",
   "id": "a9e08e56",
   "metadata": {},
   "source": [
    "- 함수의 예"
   ]
  },
  {
   "cell_type": "code",
   "execution_count": 82,
   "id": "779e2753",
   "metadata": {},
   "outputs": [
    {
     "name": "stdout",
     "output_type": "stream",
     "text": [
      "1\n"
     ]
    }
   ],
   "source": [
    "print(1)"
   ]
  },
  {
   "cell_type": "code",
   "execution_count": 83,
   "id": "6e3f8c9a",
   "metadata": {},
   "outputs": [
    {
     "data": {
      "text/plain": [
       "int"
      ]
     },
     "execution_count": 83,
     "metadata": {},
     "output_type": "execute_result"
    }
   ],
   "source": [
    "type(1)"
   ]
  },
  {
   "cell_type": "markdown",
   "id": "5bfaed09",
   "metadata": {},
   "source": [
    "- 함수를 만드는 이유"
   ]
  },
  {
   "cell_type": "markdown",
   "id": "88495af8",
   "metadata": {},
   "source": [
    "a = 1\n",
    "b = a * 100\n",
    "b = b ** 2\n",
    "c = b * 2 +a"
   ]
  },
  {
   "cell_type": "markdown",
   "id": "0f2e7698",
   "metadata": {},
   "source": [
    "똑같은 작업을 여러번 반복해야 하면 비효율적이기 때문에 이를 줄이기 위해 함수를 사용함"
   ]
  },
  {
   "cell_type": "markdown",
   "id": "c280d34c",
   "metadata": {},
   "source": [
    "- 생성 방법"
   ]
  },
  {
   "cell_type": "markdown",
   "id": "be219a62",
   "metadata": {},
   "source": [
    "def 함수명(인풋 값):\n",
    "    실행 내용"
   ]
  },
  {
   "cell_type": "markdown",
   "id": "26933696",
   "metadata": {},
   "source": [
    "- x를 입력값으로 넣으면 x+1을 출력하는 함수 생성"
   ]
  },
  {
   "cell_type": "code",
   "execution_count": 84,
   "id": "bc7ccd38",
   "metadata": {},
   "outputs": [],
   "source": [
    "def function1(x):\n",
    "    print(x + 1)"
   ]
  },
  {
   "cell_type": "code",
   "execution_count": 85,
   "id": "57e05c58",
   "metadata": {},
   "outputs": [
    {
     "name": "stdout",
     "output_type": "stream",
     "text": [
      "2\n"
     ]
    }
   ],
   "source": [
    "function1(1)"
   ]
  },
  {
   "cell_type": "markdown",
   "id": "ee7e6700",
   "metadata": {},
   "source": [
    "- x를 입력값으로 넣으면 x+1로 반환하는 함수 생성"
   ]
  },
  {
   "cell_type": "code",
   "execution_count": 89,
   "id": "4c958381",
   "metadata": {},
   "outputs": [],
   "source": [
    "def function2(x):\n",
    "    result= x + 1\n",
    "    return result"
   ]
  },
  {
   "cell_type": "code",
   "execution_count": 90,
   "id": "c666c08d",
   "metadata": {},
   "outputs": [
    {
     "name": "stdout",
     "output_type": "stream",
     "text": [
      "2\n"
     ]
    }
   ],
   "source": [
    "a= function2(1)\n",
    "print(a)"
   ]
  },
  {
   "cell_type": "markdown",
   "id": "2bafea7a",
   "metadata": {},
   "source": [
    "- x를 입력값으로 넣으면 x+1, x+2로 반환하는 함수 생성"
   ]
  },
  {
   "cell_type": "code",
   "execution_count": 91,
   "id": "353342ae",
   "metadata": {},
   "outputs": [],
   "source": [
    "def function3(x):\n",
    "    result1 = x + 1\n",
    "    result2 = x + 2\n",
    "    return result1, result2"
   ]
  },
  {
   "cell_type": "code",
   "execution_count": 92,
   "id": "15c22277",
   "metadata": {},
   "outputs": [
    {
     "name": "stdout",
     "output_type": "stream",
     "text": [
      "2\n",
      "3\n"
     ]
    }
   ],
   "source": [
    "a, b = function3(1)\n",
    "print(a)\n",
    "print(b)"
   ]
  },
  {
   "cell_type": "markdown",
   "id": "ba2c3c62",
   "metadata": {},
   "source": [
    "- 여러개의 입력 값을 받고 싶을 때"
   ]
  },
  {
   "cell_type": "markdown",
   "id": "7077d304",
   "metadata": {},
   "source": [
    "-여러개의 입력 값을 받아 순서대로 출력"
   ]
  },
  {
   "cell_type": "code",
   "execution_count": 93,
   "id": "85dfdab3",
   "metadata": {},
   "outputs": [],
   "source": [
    "def function4(x):\n",
    "    for i in x:\n",
    "        print(i)"
   ]
  },
  {
   "cell_type": "code",
   "execution_count": 94,
   "id": "a09c07c4",
   "metadata": {},
   "outputs": [
    {
     "name": "stdout",
     "output_type": "stream",
     "text": [
      "1\n",
      "3\n",
      "5\n",
      "7\n",
      "4\n",
      "d\n",
      "2\n",
      "60\n"
     ]
    }
   ],
   "source": [
    "a = [1, 3, 5, 7, 4, 'd', 2, 60]\n",
    "function4(a)"
   ]
  },
  {
   "cell_type": "markdown",
   "id": "05dc9b3c",
   "metadata": {},
   "source": [
    "-args를 사용하면 list를 사용하지 않고 한 번에 할 수 있음"
   ]
  },
  {
   "cell_type": "code",
   "execution_count": 97,
   "id": "4e28c344",
   "metadata": {},
   "outputs": [],
   "source": [
    "def function5(*args):\n",
    "    for i in args:\n",
    "        print(i)\n",
    "## 꼭 args 안 쓰고 a나 b 등등 여러 문자를 써도 되지만 반드시 문자 앞에는 *를 붙여야함"
   ]
  },
  {
   "cell_type": "code",
   "execution_count": 98,
   "id": "32e20626",
   "metadata": {},
   "outputs": [
    {
     "name": "stdout",
     "output_type": "stream",
     "text": [
      "1\n",
      "3\n",
      "5\n",
      "7\n",
      "4\n",
      "d\n",
      "2\n",
      "60\n"
     ]
    }
   ],
   "source": [
    "function5(1, 3, 5, 7, 4, 'd', 2, 60)"
   ]
  },
  {
   "cell_type": "markdown",
   "id": "9e2c503b",
   "metadata": {},
   "source": [
    "# 7. 외부 라이브러리 사용"
   ]
  },
  {
   "cell_type": "markdown",
   "id": "a79b9b70",
   "metadata": {},
   "source": [
    "- 라이브러리 다운로드"
   ]
  },
  {
   "cell_type": "code",
   "execution_count": null,
   "id": "50ce3371",
   "metadata": {},
   "outputs": [],
   "source": [
    "# !pip install pandas"
   ]
  },
  {
   "cell_type": "markdown",
   "id": "2e65c2de",
   "metadata": {},
   "source": [
    "- 라이브러리 불어오기"
   ]
  },
  {
   "cell_type": "code",
   "execution_count": 99,
   "id": "b0f3206e",
   "metadata": {},
   "outputs": [],
   "source": [
    "import pandas"
   ]
  },
  {
   "cell_type": "code",
   "execution_count": 100,
   "id": "b932dead",
   "metadata": {},
   "outputs": [
    {
     "data": {
      "text/html": [
       "<div>\n",
       "<style scoped>\n",
       "    .dataframe tbody tr th:only-of-type {\n",
       "        vertical-align: middle;\n",
       "    }\n",
       "\n",
       "    .dataframe tbody tr th {\n",
       "        vertical-align: top;\n",
       "    }\n",
       "\n",
       "    .dataframe thead th {\n",
       "        text-align: right;\n",
       "    }\n",
       "</style>\n",
       "<table border=\"1\" class=\"dataframe\">\n",
       "  <thead>\n",
       "    <tr style=\"text-align: right;\">\n",
       "      <th></th>\n",
       "      <th>a</th>\n",
       "      <th>b</th>\n",
       "    </tr>\n",
       "  </thead>\n",
       "  <tbody>\n",
       "    <tr>\n",
       "      <th>0</th>\n",
       "      <td>1</td>\n",
       "      <td>4</td>\n",
       "    </tr>\n",
       "    <tr>\n",
       "      <th>1</th>\n",
       "      <td>2</td>\n",
       "      <td>5</td>\n",
       "    </tr>\n",
       "    <tr>\n",
       "      <th>2</th>\n",
       "      <td>3</td>\n",
       "      <td>6</td>\n",
       "    </tr>\n",
       "  </tbody>\n",
       "</table>\n",
       "</div>"
      ],
      "text/plain": [
       "   a  b\n",
       "0  1  4\n",
       "1  2  5\n",
       "2  3  6"
      ]
     },
     "execution_count": 100,
     "metadata": {},
     "output_type": "execute_result"
    }
   ],
   "source": [
    "pandas.DataFrame({'a': [1, 2, 3], 'b': [4, 5, 6]})"
   ]
  },
  {
   "cell_type": "markdown",
   "id": "4f59f66a",
   "metadata": {},
   "source": [
    "- 약어를 사용하여 라이브러리 불러오기"
   ]
  },
  {
   "cell_type": "code",
   "execution_count": 101,
   "id": "2b1a2829",
   "metadata": {},
   "outputs": [],
   "source": [
    "import pandas as pd"
   ]
  },
  {
   "cell_type": "code",
   "execution_count": 102,
   "id": "8a42d293",
   "metadata": {},
   "outputs": [
    {
     "data": {
      "text/html": [
       "<div>\n",
       "<style scoped>\n",
       "    .dataframe tbody tr th:only-of-type {\n",
       "        vertical-align: middle;\n",
       "    }\n",
       "\n",
       "    .dataframe tbody tr th {\n",
       "        vertical-align: top;\n",
       "    }\n",
       "\n",
       "    .dataframe thead th {\n",
       "        text-align: right;\n",
       "    }\n",
       "</style>\n",
       "<table border=\"1\" class=\"dataframe\">\n",
       "  <thead>\n",
       "    <tr style=\"text-align: right;\">\n",
       "      <th></th>\n",
       "      <th>a</th>\n",
       "      <th>b</th>\n",
       "    </tr>\n",
       "  </thead>\n",
       "  <tbody>\n",
       "    <tr>\n",
       "      <th>0</th>\n",
       "      <td>1</td>\n",
       "      <td>4</td>\n",
       "    </tr>\n",
       "    <tr>\n",
       "      <th>1</th>\n",
       "      <td>2</td>\n",
       "      <td>5</td>\n",
       "    </tr>\n",
       "    <tr>\n",
       "      <th>2</th>\n",
       "      <td>3</td>\n",
       "      <td>6</td>\n",
       "    </tr>\n",
       "  </tbody>\n",
       "</table>\n",
       "</div>"
      ],
      "text/plain": [
       "   a  b\n",
       "0  1  4\n",
       "1  2  5\n",
       "2  3  6"
      ]
     },
     "execution_count": 102,
     "metadata": {},
     "output_type": "execute_result"
    }
   ],
   "source": [
    "pd.DataFrame({'a': [1, 2, 3], 'b': [4, 5, 6]})"
   ]
  },
  {
   "cell_type": "markdown",
   "id": "4b08d73b",
   "metadata": {},
   "source": [
    "- 모듈 지우기"
   ]
  },
  {
   "cell_type": "code",
   "execution_count": 103,
   "id": "421a5729",
   "metadata": {},
   "outputs": [],
   "source": [
    "del pd"
   ]
  },
  {
   "cell_type": "code",
   "execution_count": 104,
   "id": "6939255c",
   "metadata": {},
   "outputs": [
    {
     "ename": "NameError",
     "evalue": "name 'pd' is not defined",
     "output_type": "error",
     "traceback": [
      "\u001b[1;31m---------------------------------------------------------------------------\u001b[0m",
      "\u001b[1;31mNameError\u001b[0m                                 Traceback (most recent call last)",
      "\u001b[1;32m~\\AppData\\Local\\Temp/ipykernel_3288/1392738863.py\u001b[0m in \u001b[0;36m<module>\u001b[1;34m\u001b[0m\n\u001b[1;32m----> 1\u001b[1;33m \u001b[0mpd\u001b[0m\u001b[1;33m.\u001b[0m\u001b[0mDataFrame\u001b[0m\u001b[1;33m(\u001b[0m\u001b[1;33m{\u001b[0m\u001b[1;34m'a'\u001b[0m\u001b[1;33m:\u001b[0m \u001b[1;33m[\u001b[0m\u001b[1;36m1\u001b[0m\u001b[1;33m,\u001b[0m \u001b[1;36m2\u001b[0m\u001b[1;33m,\u001b[0m \u001b[1;36m3\u001b[0m\u001b[1;33m]\u001b[0m\u001b[1;33m,\u001b[0m \u001b[1;34m'b'\u001b[0m\u001b[1;33m:\u001b[0m \u001b[1;33m[\u001b[0m\u001b[1;36m4\u001b[0m\u001b[1;33m,\u001b[0m \u001b[1;36m5\u001b[0m\u001b[1;33m,\u001b[0m \u001b[1;36m6\u001b[0m\u001b[1;33m]\u001b[0m\u001b[1;33m}\u001b[0m\u001b[1;33m)\u001b[0m\u001b[1;33m\u001b[0m\u001b[1;33m\u001b[0m\u001b[0m\n\u001b[0m",
      "\u001b[1;31mNameError\u001b[0m: name 'pd' is not defined"
     ]
    }
   ],
   "source": [
    "pd.DataFrame({'a': [1, 2, 3], 'b': [4, 5, 6]})"
   ]
  },
  {
   "cell_type": "code",
   "execution_count": null,
   "id": "ca06be0d",
   "metadata": {},
   "outputs": [],
   "source": []
  }
 ],
 "metadata": {
  "kernelspec": {
   "display_name": "Python 3 (ipykernel)",
   "language": "python",
   "name": "python3"
  },
  "language_info": {
   "codemirror_mode": {
    "name": "ipython",
    "version": 3
   },
   "file_extension": ".py",
   "mimetype": "text/x-python",
   "name": "python",
   "nbconvert_exporter": "python",
   "pygments_lexer": "ipython3",
   "version": "3.9.7"
  }
 },
 "nbformat": 4,
 "nbformat_minor": 5
}
